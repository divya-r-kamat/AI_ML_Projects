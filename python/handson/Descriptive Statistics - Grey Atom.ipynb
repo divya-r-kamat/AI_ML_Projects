{
 "cells": [
  {
   "cell_type": "markdown",
   "metadata": {},
   "source": [
    "## Descriptive Statistics"
   ]
  },
  {
   "cell_type": "code",
   "execution_count": 1,
   "metadata": {
    "collapsed": true
   },
   "outputs": [],
   "source": [
    "#Import necessary libraries\n",
    "\n",
    "from __future__ import division\n",
    "import pandas as pd\n",
    "import numpy as np\n",
    "import matplotlib.pyplot as plt\n",
    "import seaborn as sns\n",
    "import warnings\n",
    "warnings.filterwarnings('ignore')\n",
    "\n",
    "\n",
    "%matplotlib inline"
   ]
  },
  {
   "cell_type": "code",
   "execution_count": 2,
   "metadata": {
    "collapsed": true
   },
   "outputs": [],
   "source": [
    "data = pd.read_csv(\"https://raw.githubusercontent.com/MayureshShilotri/26-Weeks-Of-Data-Science/master/Week-07-Inferential_Stats/data/train.csv\")"
   ]
  },
  {
   "cell_type": "code",
   "execution_count": 4,
   "metadata": {},
   "outputs": [
    {
     "name": "stdout",
     "output_type": "stream",
     "text": [
      "180921.19589041095\n"
     ]
    }
   ],
   "source": [
    "Sales_price = pd.Series(data['SalePrice'])\n",
    "\n",
    "mean = np.mean(Sales_price)\n",
    "print(mean)"
   ]
  },
  {
   "cell_type": "code",
   "execution_count": 6,
   "metadata": {},
   "outputs": [
    {
     "name": "stdout",
     "output_type": "stream",
     "text": [
      "Median: 163000.0\n",
      "Q1: 129975.0\n",
      "Q3: 214000.0\n",
      "IQR: 84025.0\n"
     ]
    }
   ],
   "source": [
    "# Median for sales price\n",
    "\n",
    "median = np.median(Sales_price)\n",
    "print(\"Median:\",median)\n",
    "\n",
    "q1 = Sales_price.quantile(0.25) # upper quartile  } Note: The fuction is .quantile() with 'n'\n",
    "q3 = Sales_price.quantile(0.75) # lower quartile  }       not .quartile() with 'r'\n",
    "print(\"Q1:\", q1)\n",
    "print(\"Q3:\", q3)\n",
    "print(\"IQR:\", q3 - q1)"
   ]
  },
  {
   "cell_type": "markdown",
   "metadata": {},
   "source": [
    "That is almost a difference of around 20000. This set of observations is definitely skewed"
   ]
  },
  {
   "cell_type": "markdown",
   "metadata": {},
   "source": [
    "## Box plot"
   ]
  },
  {
   "cell_type": "code",
   "execution_count": 7,
   "metadata": {},
   "outputs": [
    {
     "data": {
      "image/png": "[encoded data removed]",
      "text/plain": [
       "<Figure size 432x288 with 1 Axes>"
      ]
     },
     "metadata": {},
     "output_type": "display_data"
    }
   ],
   "source": [
    "plt.boxplot(Sales_price)\n",
    "plt.show()"
   ]
  },
  {
   "cell_type": "code",
   "execution_count": 10,
   "metadata": {},
   "outputs": [
    {
     "name": "stdout",
     "output_type": "stream",
     "text": [
      "outlier_lower_limit: 3937.5\n",
      "outlier_upper_limit: 340037.5\n"
     ]
    }
   ],
   "source": [
    "# Enter Code to find no. of outliers\n",
    "\n",
    "outlier_lower_limit = q1 - 1.5*(q3 - q1)\n",
    "outlier_upper_limit = q3 + 1.5*(q3 - q1)\n",
    "print(\"outlier_lower_limit:\", outlier_lower_limit)\n",
    "print(\"outlier_upper_limit:\", outlier_upper_limit)"
   ]
  },
  {
   "cell_type": "code",
   "execution_count": 11,
   "metadata": {},
   "outputs": [
    {
     "name": "stdout",
     "output_type": "stream",
     "text": [
      "lower_limit_outliers: 0\n",
      "upper_limit_outliers: 61\n",
      "total outliers: 61\n"
     ]
    }
   ],
   "source": [
    "\n",
    "lower_limit_outliers = Sales_price[Sales_price < outlier_lower_limit].count()\n",
    "upper_limit_outliers = Sales_price[Sales_price > outlier_upper_limit].count()\n",
    "print(\"lower_limit_outliers:\", lower_limit_outliers)\n",
    "print(\"upper_limit_outliers:\", upper_limit_outliers)\n",
    "print(\"total outliers:\", upper_limit_outliers + lower_limit_outliers)"
   ]
  },
  {
   "cell_type": "markdown",
   "metadata": {},
   "source": [
    "### Skewness\n",
    "\n",
    "- Although the Box & Whisker plot is a good method to get an intution on the number of outliers; another good way to find out if we need to consider the median is by checking the: Skewness in distribution.\n",
    "- We know that the Median is more robust to outliers than the mean, thus giving us a better estimate of the \"Central Tendency\" of our dataset!\n",
    "\n",
    "### Plot a Histogram of the data\n",
    "\n",
    "- Let's plot a histogram, which is nothing but a Frequency Plot of the no. of times the values in our particular data are observed!\n",
    "- These values are arranged in \"bins\"\n",
    "- Each \"bin\" is a range of values and their height (or y-values) determine <b> The number of times values in THAT range appear in our dataset! </b>\n",
    "- Let's code and have a look at the Histogram of our predictor"
   ]
  },
  {
   "cell_type": "code",
   "execution_count": 14,
   "metadata": {},
   "outputs": [
    {
     "data": {
      "text/plain": [
       "(array([  5.,   6.,  11.,  27.,  50.,  49.,  98., 134., 148., 125., 107.,\n",
       "        111., 106.,  70.,  53.,  51.,  48.,  45.,  31.,  27.,  28.,  14.,\n",
       "         13.,  22.,  11.,  13.,   4.,   6.,   9.,   8.,   5.,   3.,   4.,\n",
       "          3.,   2.,   2.,   1.,   1.,   1.,   0.,   0.,   1.,   0.,   2.,\n",
       "          0.,   1.,   0.,   0.,   1.,   1.,   0.,   0.,   0.,   0.,   0.,\n",
       "          0.,   0.,   0.,   0.,   2.]),\n",
       " array([ 34900.        ,  46901.66666667,  58903.33333333,  70905.        ,\n",
       "         82906.66666667,  94908.33333333, 106910.        , 118911.66666667,\n",
       "        130913.33333333, 142915.        , 154916.66666667, 166918.33333333,\n",
       "        178920.        , 190921.66666667, 202923.33333333, 214925.        ,\n",
       "        226926.66666667, 238928.33333333, 250930.        , 262931.66666667,\n",
       "        274933.33333333, 286935.        , 298936.66666667, 310938.33333333,\n",
       "        322940.        , 334941.66666667, 346943.33333333, 358945.        ,\n",
       "        370946.66666667, 382948.33333333, 394950.        , 406951.66666667,\n",
       "        418953.33333333, 430955.        , 442956.66666667, 454958.33333333,\n",
       "        466960.        , 478961.66666667, 490963.33333333, 502965.        ,\n",
       "        514966.66666667, 526968.33333333, 538970.        , 550971.66666667,\n",
       "        562973.33333333, 574975.        , 586976.66666667, 598978.33333333,\n",
       "        610980.        , 622981.66666667, 634983.33333333, 646985.        ,\n",
       "        658986.66666667, 670988.33333333, 682990.        , 694991.66666667,\n",
       "        706993.33333333, 718995.        , 730996.66666667, 742998.33333333,\n",
       "        755000.        ]),\n",
       " <a list of 60 Patch objects>)"
      ]
     },
     "execution_count": 14,
     "metadata": {},
     "output_type": "execute_result"
    },
    {
     "data": {
      "image/png": "[encoded data removed]",
      "text/plain": [
       "<Figure size 432x288 with 1 Axes>"
      ]
     },
     "metadata": {},
     "output_type": "display_data"
    }
   ],
   "source": [
    "plt.hist(Sales_price, bins=60)"
   ]
  },
  {
   "cell_type": "markdown",
   "metadata": {},
   "source": [
    "- By just looking, we can tell that the Histogram is not peaked around the center of ranges\n",
    "- The peak is towards the left of the plot. Thus, we see that our Histogram is \"Positively Skewed\""
   ]
  },
  {
   "cell_type": "code",
   "execution_count": 20,
   "metadata": {},
   "outputs": [
    {
     "data": {
      "text/plain": [
       "<matplotlib.legend.Legend at 0x21cccdfb7b8>"
      ]
     },
     "execution_count": 20,
     "metadata": {},
     "output_type": "execute_result"
    },
    {
     "data": {
      "image/png": "[encoded data removed]",
      "text/plain": [
       "<Figure size 720x432 with 1 Axes>"
      ]
     },
     "metadata": {},
     "output_type": "display_data"
    }
   ],
   "source": [
    "## plot the hist with mean median and mode - This needs to be checked! \n",
    "mode = Sales_price.mode()\n",
    "plt.figure(figsize=(10, 6)) \n",
    "plt.hist(Sales_price, bins=40)\n",
    "plt.plot([mode]*300, range(300), label='mode') \n",
    "plt.plot([median]*300, range(300), label='median')\n",
    "plt.plot([mean]*300, range(300), label='mean')\n",
    "plt.ylim(0, 250)\n",
    "plt.legend()"
   ]
  },
  {
   "cell_type": "markdown",
   "metadata": {},
   "source": [
    "### Mean \n",
    "\n",
    "The mean is usually the best measure of central tendency to use when your data distribution is continuous and symmetrical, such as when your data is normally distributed.\n",
    "\n",
    "However, it all depends on what you are trying to show from your data.\n",
    "\n",
    "### Mode\n",
    "- The mode is the least used of the measures of central tendency\n",
    "\n",
    "- The mode will be the best measure of central tendency (as it is the only one appropriate to use) when dealing with nominal data.\n",
    "\n",
    "- The mean and/or median are usually preferred when dealing with all other types of data, but this does not mean it is never used with these data typesThe mode is the least used of the measures of central tendency\n",
    "\n",
    "### Median\n",
    "\n",
    "- The median is usually preferred to other measures of central tendency when your data set is skewed (i.e., forms a skewed distribution) or you are dealing with ordinal data.\n",
    "\n",
    "- However, the mode can also be appropriate in these situations, but IS NOT as commonly used as the median.\n",
    "\n",
    "\n",
    "#### What is the most appropriate measure of central tendency when the data has outliers?\n",
    "The median is usually preferred in these situations because the value of the mean can be distorted by the outliers.\n",
    "\n",
    "However, it will depend on how influential the outliers are. If they do not significantly distort the mean, using the mean as the measure of central tendency will usually be preferred.\n",
    "\n",
    "#### In a normally distributed data set, which is greatest: mode, median or mean?\n",
    "If the data set is perfectly normal, the mean, median and mean are equal to each other (i.e., the same value).\n",
    "\n",
    "#### For any data set, which measures of central tendency have only one value?\n",
    "The median and mean can only have one value for a given data set. The mode can have more than one value\n",
    "\n",
    "\n",
    "<b> Nominal variables </b> are categorical variables that have two or more categories, but which do not have an intrinsic order.\n",
    "\n",
    "##### For example\n",
    "\n",
    "a real estate agent could classify their types of property into distinct categories such as houses, condos, co-ops or bungalows. So \"type of property\" is a nominal variable with 4 categories called houses, condos, co-ops and bungalows.\n",
    "Of note, the different categories of a nominal variable can also be referred to as groups or levels of the nominal variable.\n",
    "\n",
    "\n",
    "\n",
    "### Spread of Data\n",
    "\n",
    "- Let's choose the value 250,000 from the SalePrice column and check how far this value is from the mean when compared to other points in the data set\n",
    "- We measure this as follows:\n",
    "      (250,000 - mean)/Random Variation\n",
    "- We know the mean, we found that before\n",
    "\n",
    "What is Random Variation?\n",
    "    - It's nothing but the Average variation of the data from the mean\n",
    "    - It can be calculated using Range, Variance or Standard Deviation\n",
    "    - Always its recommended to use Std Deviation as Random Variation\n",
    "\n",
    "How do we measure this?\n",
    "\n",
    "Range of data is simply:\n",
    "    Max Value of Data - Min Value of data\n"
   ]
  },
  {
   "cell_type": "code",
   "execution_count": 21,
   "metadata": {},
   "outputs": [
    {
     "data": {
      "text/plain": [
       "720100"
      ]
     },
     "execution_count": 21,
     "metadata": {},
     "output_type": "execute_result"
    }
   ],
   "source": [
    "Range = np.max(Sales_price)-np.min(Sales_price)\n",
    "Range"
   ]
  },
  {
   "cell_type": "code",
   "execution_count": 22,
   "metadata": {},
   "outputs": [
    {
     "name": "stdout",
     "output_type": "stream",
     "text": [
      "6311111264.297451\n",
      "79442.50288288663\n"
     ]
    }
   ],
   "source": [
    "# Mean squared distance from the mean\n",
    "\n",
    "variance = Sales_price.var()\n",
    "print(variance)\n",
    "\n",
    "#Standard Deviation is square root of variance\n",
    "from math import sqrt\n",
    "\n",
    "std = sqrt(variance)\n",
    "print(std)"
   ]
  },
  {
   "cell_type": "code",
   "execution_count": 25,
   "metadata": {},
   "outputs": [
    {
     "data": {
      "text/plain": [
       "0.8695446593799336"
      ]
     },
     "execution_count": 25,
     "metadata": {},
     "output_type": "execute_result"
    }
   ],
   "source": [
    "spread_of_data = (250000 - mean)/std\n",
    "spread_of_data"
   ]
  },
  {
   "cell_type": "markdown",
   "metadata": {},
   "source": [
    "## Standard Normal Distribution\n",
    "\n",
    "If we know that our data is Normally Distributed, we can confidently say that:\n",
    "- ~68% of the data is within one Std. Dev. from the mean\n",
    "- ~95% of the data is within 2 Std. Dev. from the mean\n",
    "- ~99.7% of the data is within 3 Std Dev from the mean\n",
    "\n",
    "\n",
    "## Correlation\n",
    "\n",
    "- Now what if we want to know how the price is affected by different factors such as the Living Room area, Garage Area, etc which are some of the other columns/features in our dataset. This is nothing but Correlation!\n",
    "\n",
    "- A good way to determine this correlation is to use an already existing method known as Pearson Correlation Coefficient\n",
    "- Correlation Coefficient is a measure of linear reationship between two variables\n",
    "- It always outputs in the range of [-1,1]\n",
    "- This is a bit complicated but easy when you break it down\n",
    "$$ r = \\frac{N\\sum xy - (\\sum x)(\\sum y)}{\\sqrt {[N\\sum x^2 -(\\sum x)^2][N\\sum y^2 -(\\sum y)^2]}} $$\n",
    "$\n",
    "\\begin{align}\n",
    "Where :  \n",
    "\\end{align}\n",
    "$\n",
    "\n",
    "$\n",
    "\\begin{align}\n",
    "N = Number\\thinspace of\\thinspace pairs\\thinspace of\\thinspace scores \n",
    "\\end{align}\n",
    "$\n",
    "\n",
    "$\n",
    "\\begin{align}\n",
    "\\sum xy = sum\\thinspace of\\thinspace the\\thinspace products\\thinspace of\\thinspace paired\\thinspace scores\\thinspace \n",
    "\\end{align}\n",
    "$\n",
    "\n",
    "$\n",
    "\\begin{align}\n",
    "\\sum x = sum\\thinspace of\\thinspace x\\thinspace scores\\thinspace \n",
    "\\end{align}\n",
    "$\n",
    "\n",
    "$\n",
    "\\begin{align}\n",
    "\\sum y = sum\\thinspace of\\thinspace y\\thinspace scores\\thinspace \n",
    "\\end{align}\n",
    "$\n",
    "\n",
    "$\n",
    "\\begin{align}\n",
    "\\sum x^2 = sum\\thinspace of\\thinspace squared\\thinspace x\\thinspace scores\\thinspace \n",
    "\\end{align}\n",
    "$\n",
    "\n",
    "$\n",
    "\\begin{align}\n",
    "\\sum y^2 = sum\\thinspace of\\thinspace squared\\thinspace y\\thinspace scores\\thinspace \n",
    "\\end{align}\n",
    "$\n",
    "\n",
    "\n",
    "Understanding values:\n",
    "- 1 indicates a strong positive relationship.\n",
    "- -1 indicates a strong negative relationship.\n",
    "- A result of zero indicates a non-linear relationship or no relationship at all.\n",
    "- A correlation coefficient of 1 means that for every positive increase of 1 in one variable, there is a positive increase of 1 in the other.\n",
    "- A correlation coefficient of -1 means that for every positive increase of 1 in one variable, there is a negative decrease of 1 in the other.\n",
    "- Zero means that for every increase, there isn’t a positive or negative increase. The two just aren’t related."
   ]
  },
  {
   "cell_type": "code",
   "execution_count": 26,
   "metadata": {},
   "outputs": [
    {
     "data": {
      "text/plain": [
       "0.7086244776126521"
      ]
     },
     "execution_count": 26,
     "metadata": {},
     "output_type": "execute_result"
    }
   ],
   "source": [
    "#What is the Correlation between the Sales price and the Living Room Area?\n",
    "\n",
    "living_room_area = data.GrLivArea\n",
    "\n",
    "np.corrcoef(Sales_price, living_room_area)[0,1]  # Returns Pearson product-moment correlation coefficients."
   ]
  },
  {
   "cell_type": "markdown",
   "metadata": {},
   "source": [
    "The absolute value of the correlation coefficient gives us the relationship strength. The larger the number, the stronger the relationship. For example, |-.75| = .75, which has a stronger relationship than .65.\n",
    "\n",
    "Also, we can creatively plot \"heatmaps\" in Python to make our plot fancy and see the Correlation trends between Several variables!This is a very handy trick used by Data Scientists All over the world!\n",
    "\n",
    "The next slide displays the code where The Correlation trends amongst the \"Lot Area\", Living Room Area, Garage Area and Sales Price of the house are captured!"
   ]
  },
  {
   "cell_type": "code",
   "execution_count": 28,
   "metadata": {},
   "outputs": [
    {
     "name": "stdout",
     "output_type": "stream",
     "text": [
      "             LotArea  GrLivArea  GarageArea  SalePrice\n",
      "LotArea     1.000000   0.263116    0.180403   0.263843\n",
      "GrLivArea   0.263116   1.000000    0.468997   0.708624\n",
      "GarageArea  0.180403   0.468997    1.000000   0.623431\n",
      "SalePrice   0.263843   0.708624    0.623431   1.000000\n"
     ]
    },
    {
     "data": {
      "image/png": "[encoded data removed]",
      "text/plain": [
       "<Figure size 432x288 with 2 Axes>"
      ]
     },
     "metadata": {},
     "output_type": "display_data"
    }
   ],
   "source": [
    "#considering 4 continous variable and finding the correlation\n",
    "import seaborn as sns\n",
    "%matplotlib inline\n",
    "x = data[['LotArea','GrLivArea','GarageArea','SalePrice']]\n",
    "corr = x.corr()      # Computes pairwise correlation of columns excluding NaNs\n",
    "sns.heatmap(corr,annot=True)\n",
    "print(corr)"
   ]
  },
  {
   "cell_type": "markdown",
   "metadata": {},
   "source": [
    "### Correlation doesn't imply Causation\n",
    "However, correlation does not imply causation. There may be, for example, an unknown factor that influences both variables similarly.\n",
    "\n",
    "Causation indicates that one event is the result of the occurrence of the other event; i.e. there is a causal relationship between the two events. This is also referred to as cause and effect.\n",
    "\n",
    "A statistically significant correlation has been reported, for example, between yellow cars and a lower incidence of accidents. That does not indicate that yellow cars are safer, but just that fewer yellow cars are involved in accidents. A third factor, such as the personality type of the purchaser of yellow cars, is more likely to be responsible than the color of the paint itself."
   ]
  },
  {
   "cell_type": "code",
   "execution_count": null,
   "metadata": {
    "collapsed": true
   },
   "outputs": [],
   "source": []
  }
 ],
 "metadata": {
  "kernelspec": {
   "display_name": "Python 3",
   "language": "python",
   "name": "python3"
  },
  "language_info": {
   "codemirror_mode": {
    "name": "ipython",
    "version": 3
   },
   "file_extension": ".py",
   "mimetype": "text/x-python",
   "name": "python",
   "nbconvert_exporter": "python",
   "pygments_lexer": "ipython3",
   "version": "3.6.1"
  }
 },
 "nbformat": 4,
 "nbformat_minor": 2
}
