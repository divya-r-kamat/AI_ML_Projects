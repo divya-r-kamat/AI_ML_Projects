{
 "cells": [
  {
   "cell_type": "markdown",
   "metadata": {},
   "source": [
    "# K-Nearest-Neighbors\n",
    "KNN falls in the supervised learning family of algorithms. Informally, this means that we are given a labelled dataset consiting \n",
    "of training observations (x,y) and would like to capture the relationship between x and y. More formally, our goal is to learn a\n",
    "function h:X→Y so that given an unseen observation x, h(x) can confidently predict the corresponding output y.\n",
    "\n",
    "In this module we will explore the inner workings of KNN, choosing the optimal K values and using KNN from scikit-learn."
   ]
  },
  {
   "cell_type": "markdown",
   "metadata": {},
   "source": [
    "# Overview\n",
    "\n",
    "1.Read the problem statement.\n",
    "\n",
    "2.Get the dataset.\n",
    "\n",
    "3.Explore the dataset.\n",
    "\n",
    "4.Pre-processing of dataset.\n",
    "\n",
    "5.Visualization\n",
    "\n",
    "6.Transform the dataset for building machine learning model.\n",
    "\n",
    "7.Split data into train, test set.\n",
    "\n",
    "7.Build Model.\n",
    "\n",
    "8.Apply the model.\n",
    "\n",
    "9.Evaluate the model.\n",
    "\n",
    "10.Finding Optimal K value\n",
    "\n",
    "11.Repeat 7,8,9 steps."
   ]
  },
  {
   "cell_type": "markdown",
   "metadata": {},
   "source": [
    "# Problem statement\n",
    "\n",
    "Dataset:\n",
    "The data set we’ll be using is the Iris Flower Dataset which was first introduced in 1936 by the famous statistician Ronald \n",
    "Fisher and consists of 50 observations from each of three species of Iris (Iris setosa, Iris virginica and Iris versicolor). \n",
    "Four features were measured from each sample: the length and the width of the sepals and petals.\n",
    "\n",
    "Source: https://archive.ics.uci.edu/ml/datasets/Iris\n",
    "\n",
    "Train the KNN algorithm to be able to distinguish the species from one another given the measurements of the 4 features."
   ]
  },
  {
   "cell_type": "markdown",
   "metadata": {},
   "source": [
    "# Question 1\n",
    "Import libraries and load the dataset"
   ]
  },
  {
   "cell_type": "code",
   "execution_count": 1,
   "metadata": {
    "collapsed": true
   },
   "outputs": [],
   "source": [
    "import pandas as pd\n",
    "import numpy as np\n",
    "\n",
    "import seaborn as sns\n",
    "import matplotlib.pyplot as plt\n",
    "%matplotlib inline\n",
    "\n",
    "\n",
    "from sklearn.model_selection import train_test_split\n",
    "from sklearn.neighbors import KNeighborsClassifier"
   ]
  },
  {
   "cell_type": "code",
   "execution_count": 2,
   "metadata": {},
   "outputs": [
    {
     "data": {
      "text/html": [
       "<div>\n",
       "<style scoped>\n",
       "    .dataframe tbody tr th:only-of-type {\n",
       "        vertical-align: middle;\n",
       "    }\n",
       "\n",
       "    .dataframe tbody tr th {\n",
       "        vertical-align: top;\n",
       "    }\n",
       "\n",
       "    .dataframe thead th {\n",
       "        text-align: right;\n",
       "    }\n",
       "</style>\n",
       "<table border=\"1\" class=\"dataframe\">\n",
       "  <thead>\n",
       "    <tr style=\"text-align: right;\">\n",
       "      <th></th>\n",
       "      <th>SepalLengthCm</th>\n",
       "      <th>SepalWidthCm</th>\n",
       "      <th>PetalLengthCm</th>\n",
       "      <th>PetalWidthCm</th>\n",
       "      <th>Species</th>\n",
       "    </tr>\n",
       "  </thead>\n",
       "  <tbody>\n",
       "    <tr>\n",
       "      <th>0</th>\n",
       "      <td>5.1</td>\n",
       "      <td>3.5</td>\n",
       "      <td>1.4</td>\n",
       "      <td>0.2</td>\n",
       "      <td>Iris-setosa</td>\n",
       "    </tr>\n",
       "    <tr>\n",
       "      <th>1</th>\n",
       "      <td>4.9</td>\n",
       "      <td>3.0</td>\n",
       "      <td>1.4</td>\n",
       "      <td>0.2</td>\n",
       "      <td>Iris-setosa</td>\n",
       "    </tr>\n",
       "    <tr>\n",
       "      <th>2</th>\n",
       "      <td>4.7</td>\n",
       "      <td>3.2</td>\n",
       "      <td>1.3</td>\n",
       "      <td>0.2</td>\n",
       "      <td>Iris-setosa</td>\n",
       "    </tr>\n",
       "    <tr>\n",
       "      <th>3</th>\n",
       "      <td>4.6</td>\n",
       "      <td>3.1</td>\n",
       "      <td>1.5</td>\n",
       "      <td>0.2</td>\n",
       "      <td>Iris-setosa</td>\n",
       "    </tr>\n",
       "    <tr>\n",
       "      <th>4</th>\n",
       "      <td>5.0</td>\n",
       "      <td>3.6</td>\n",
       "      <td>1.4</td>\n",
       "      <td>0.2</td>\n",
       "      <td>Iris-setosa</td>\n",
       "    </tr>\n",
       "  </tbody>\n",
       "</table>\n",
       "</div>"
      ],
      "text/plain": [
       "   SepalLengthCm  SepalWidthCm  PetalLengthCm  PetalWidthCm      Species\n",
       "0            5.1           3.5            1.4           0.2  Iris-setosa\n",
       "1            4.9           3.0            1.4           0.2  Iris-setosa\n",
       "2            4.7           3.2            1.3           0.2  Iris-setosa\n",
       "3            4.6           3.1            1.5           0.2  Iris-setosa\n",
       "4            5.0           3.6            1.4           0.2  Iris-setosa"
      ]
     },
     "execution_count": 2,
     "metadata": {},
     "output_type": "execute_result"
    }
   ],
   "source": [
    "df = pd.read_csv(r\"C:\\Users\\divyakamat\\PG_AI_ML\\python\\handson\\iris.csv\")\n",
    "df.drop(labels= 'Id',axis = 1,inplace=True)\n",
    "df.head()"
   ]
  },
  {
   "cell_type": "code",
   "execution_count": 3,
   "metadata": {},
   "outputs": [
    {
     "data": {
      "text/html": [
       "<div>\n",
       "<style scoped>\n",
       "    .dataframe tbody tr th:only-of-type {\n",
       "        vertical-align: middle;\n",
       "    }\n",
       "\n",
       "    .dataframe tbody tr th {\n",
       "        vertical-align: top;\n",
       "    }\n",
       "\n",
       "    .dataframe thead th {\n",
       "        text-align: right;\n",
       "    }\n",
       "</style>\n",
       "<table border=\"1\" class=\"dataframe\">\n",
       "  <thead>\n",
       "    <tr style=\"text-align: right;\">\n",
       "      <th></th>\n",
       "      <th>SepalLengthCm</th>\n",
       "      <th>SepalWidthCm</th>\n",
       "      <th>PetalLengthCm</th>\n",
       "      <th>PetalWidthCm</th>\n",
       "    </tr>\n",
       "  </thead>\n",
       "  <tbody>\n",
       "    <tr>\n",
       "      <th>count</th>\n",
       "      <td>151.000000</td>\n",
       "      <td>150.000000</td>\n",
       "      <td>150.000000</td>\n",
       "      <td>151.000000</td>\n",
       "    </tr>\n",
       "    <tr>\n",
       "      <th>mean</th>\n",
       "      <td>5.843709</td>\n",
       "      <td>3.054000</td>\n",
       "      <td>3.758667</td>\n",
       "      <td>1.202649</td>\n",
       "    </tr>\n",
       "    <tr>\n",
       "      <th>std</th>\n",
       "      <td>0.825314</td>\n",
       "      <td>0.433594</td>\n",
       "      <td>1.764420</td>\n",
       "      <td>0.762185</td>\n",
       "    </tr>\n",
       "    <tr>\n",
       "      <th>min</th>\n",
       "      <td>4.300000</td>\n",
       "      <td>2.000000</td>\n",
       "      <td>1.000000</td>\n",
       "      <td>0.100000</td>\n",
       "    </tr>\n",
       "    <tr>\n",
       "      <th>25%</th>\n",
       "      <td>5.100000</td>\n",
       "      <td>2.800000</td>\n",
       "      <td>1.600000</td>\n",
       "      <td>0.300000</td>\n",
       "    </tr>\n",
       "    <tr>\n",
       "      <th>50%</th>\n",
       "      <td>5.800000</td>\n",
       "      <td>3.000000</td>\n",
       "      <td>4.350000</td>\n",
       "      <td>1.300000</td>\n",
       "    </tr>\n",
       "    <tr>\n",
       "      <th>75%</th>\n",
       "      <td>6.400000</td>\n",
       "      <td>3.300000</td>\n",
       "      <td>5.100000</td>\n",
       "      <td>1.800000</td>\n",
       "    </tr>\n",
       "    <tr>\n",
       "      <th>max</th>\n",
       "      <td>7.900000</td>\n",
       "      <td>4.400000</td>\n",
       "      <td>6.900000</td>\n",
       "      <td>2.500000</td>\n",
       "    </tr>\n",
       "  </tbody>\n",
       "</table>\n",
       "</div>"
      ],
      "text/plain": [
       "       SepalLengthCm  SepalWidthCm  PetalLengthCm  PetalWidthCm\n",
       "count     151.000000    150.000000     150.000000    151.000000\n",
       "mean        5.843709      3.054000       3.758667      1.202649\n",
       "std         0.825314      0.433594       1.764420      0.762185\n",
       "min         4.300000      2.000000       1.000000      0.100000\n",
       "25%         5.100000      2.800000       1.600000      0.300000\n",
       "50%         5.800000      3.000000       4.350000      1.300000\n",
       "75%         6.400000      3.300000       5.100000      1.800000\n",
       "max         7.900000      4.400000       6.900000      2.500000"
      ]
     },
     "execution_count": 3,
     "metadata": {},
     "output_type": "execute_result"
    }
   ],
   "source": [
    "df.describe()"
   ]
  },
  {
   "cell_type": "code",
   "execution_count": 4,
   "metadata": {},
   "outputs": [
    {
     "name": "stdout",
     "output_type": "stream",
     "text": [
      "<class 'pandas.core.frame.DataFrame'>\n",
      "RangeIndex: 152 entries, 0 to 151\n",
      "Data columns (total 5 columns):\n",
      "SepalLengthCm    151 non-null float64\n",
      "SepalWidthCm     150 non-null float64\n",
      "PetalLengthCm    150 non-null float64\n",
      "PetalWidthCm     151 non-null float64\n",
      "Species          152 non-null object\n",
      "dtypes: float64(4), object(1)\n",
      "memory usage: 6.0+ KB\n"
     ]
    }
   ],
   "source": [
    "df.info()"
   ]
  },
  {
   "cell_type": "code",
   "execution_count": 5,
   "metadata": {
    "collapsed": true
   },
   "outputs": [],
   "source": [
    "def missing_values(df):\n",
    "    #check null values \n",
    "    df_na = (df.isnull().sum() / len(df)) * 100\n",
    "    df_na = df_na.drop(df_na[df_na == 0].index).sort_values(ascending=False)[:30]\n",
    "    missing_data = pd.DataFrame({'Missing Ratio' :df_na})\n",
    "    \n",
    "    if (df_na.shape[0] != 0):\n",
    "        f, ax = plt.subplots(figsize=(8, 6))\n",
    "        plt.xticks(rotation='90')\n",
    "        sns.barplot(x=df_na.index, y=df_na)\n",
    "        plt.xlabel('Features', fontsize=15)\n",
    "        plt.ylabel('Percent of missing values', fontsize=15)\n",
    "        plt.title('Percent missing data by feature', fontsize=15)\n",
    "        \n",
    "    return missing_data.head(22)"
   ]
  },
  {
   "cell_type": "code",
   "execution_count": 6,
   "metadata": {},
   "outputs": [
    {
     "data": {
      "image/png": "[encoded data removed]",
      "text/plain": [
       "<Figure size 576x432 with 1 Axes>"
      ]
     },
     "metadata": {},
     "output_type": "display_data"
    }
   ],
   "source": [
    "null_values = missing_values(df)\n",
    "if null_values.shape[0] == 0:\n",
    "    print (\"There are no null values in the datasets\")\n",
    "else:\n",
    "    null_values"
   ]
  },
  {
   "cell_type": "markdown",
   "metadata": {},
   "source": [
    "# Data Pre-processing"
   ]
  },
  {
   "cell_type": "markdown",
   "metadata": {},
   "source": [
    "# Question 2 - Estimating missing values\n",
    "Its not good to remove the records having missing values all the time. We may end up loosing some data points. So, we will have \n",
    "to see how to replace those missing values with some estimated values (median)"
   ]
  },
  {
   "cell_type": "code",
   "execution_count": 7,
   "metadata": {
    "collapsed": true
   },
   "outputs": [],
   "source": [
    "df['SepalLengthCm'] = df['SepalLengthCm'].fillna(df['SepalLengthCm'].median())\n",
    "df['SepalWidthCm'] = df['SepalWidthCm'].fillna(df['SepalWidthCm'].median())\n",
    "df['PetalLengthCm'] = df['PetalLengthCm'].fillna(df['PetalLengthCm'].median())\n",
    "df['PetalWidthCm'] = df['PetalWidthCm'].fillna(df['PetalWidthCm'].median())"
   ]
  },
  {
   "cell_type": "code",
   "execution_count": 8,
   "metadata": {},
   "outputs": [
    {
     "name": "stdout",
     "output_type": "stream",
     "text": [
      "<class 'pandas.core.frame.DataFrame'>\n",
      "RangeIndex: 152 entries, 0 to 151\n",
      "Data columns (total 5 columns):\n",
      "SepalLengthCm    152 non-null float64\n",
      "SepalWidthCm     152 non-null float64\n",
      "PetalLengthCm    152 non-null float64\n",
      "PetalWidthCm     152 non-null float64\n",
      "Species          152 non-null object\n",
      "dtypes: float64(4), object(1)\n",
      "memory usage: 6.0+ KB\n"
     ]
    }
   ],
   "source": [
    "df.info()"
   ]
  },
  {
   "cell_type": "markdown",
   "metadata": {},
   "source": [
    "# Question 3 - Dealing with categorical data\n",
    "Change all the classes to numericals (0to2)."
   ]
  },
  {
   "cell_type": "code",
   "execution_count": 9,
   "metadata": {},
   "outputs": [
    {
     "data": {
      "text/plain": [
       "Iris-virginica     52\n",
       "Iris-setosa        50\n",
       "Iris-versicolor    50\n",
       "Name: Species, dtype: int64"
      ]
     },
     "execution_count": 9,
     "metadata": {},
     "output_type": "execute_result"
    }
   ],
   "source": [
    "df['Species'].value_counts()"
   ]
  },
  {
   "cell_type": "code",
   "execution_count": 10,
   "metadata": {},
   "outputs": [
    {
     "data": {
      "text/plain": [
       "1    52\n",
       "3    50\n",
       "2    50\n",
       "Name: Species, dtype: int64"
      ]
     },
     "execution_count": 10,
     "metadata": {},
     "output_type": "execute_result"
    }
   ],
   "source": [
    "df['Species'] = df['Species'].map({'Iris-virginica': 1, 'Iris-setosa': 2,'Iris-versicolor':3})\n",
    "df['Species'].value_counts()"
   ]
  },
  {
   "cell_type": "markdown",
   "metadata": {},
   "source": [
    "# Question 4\n",
    "Observe the association of each independent variable with target variable and drop variables from feature set having correlation \n",
    "in range -0.1 to 0.1 with target variable."
   ]
  },
  {
   "cell_type": "code",
   "execution_count": 11,
   "metadata": {
    "collapsed": true
   },
   "outputs": [],
   "source": [
    "def density_plots(df):\n",
    "    num_cols = list(df._get_numeric_data().columns)\n",
    "    for i in range(0,len(num_cols),3):\n",
    "        if len(num_cols) > i+2:\n",
    "            plt.figure(figsize=(10,3))\n",
    "            plt.subplot(131)\n",
    "            sns.distplot(df[num_cols[i]], hist=True, kde=True)\n",
    "            plt.subplot(132)            \n",
    "            sns.distplot(df[num_cols[i+1]], hist=True, kde=True)\n",
    "            plt.subplot(133)            \n",
    "            sns.distplot(df[num_cols[i+2]], hist=True, kde=True)\n",
    "            plt.tight_layout()\n",
    "            plt.show()\n",
    "\n",
    "        else:\n",
    "            sns.distplot(df[num_cols[i]], hist=True, kde=True)"
   ]
  },
  {
   "cell_type": "code",
   "execution_count": 12,
   "metadata": {},
   "outputs": [
    {
     "name": "stderr",
     "output_type": "stream",
     "text": [
      "C:\\Users\\divyakamat\\Anaconda2\\envs\\py36\\lib\\site-packages\\scipy\\stats\\stats.py:1713: FutureWarning: Using a non-tuple sequence for multidimensional indexing is deprecated; use `arr[tuple(seq)]` instead of `arr[seq]`. In the future this will be interpreted as an array index, `arr[np.array(seq)]`, which will result either in an error or a different result.\n",
      "  return np.add.reduce(sorted[indexer] * weights, axis=axis) / sumval\n"
     ]
    },
    {
     "data": {
      "image/png": "[encoded data removed]",
      "text/plain": [
       "<Figure size 720x216 with 3 Axes>"
      ]
     },
     "metadata": {},
     "output_type": "display_data"
    },
    {
     "data": {
      "image/png": "[encoded data removed]",
      "text/plain": [
       "<Figure size 432x288 with 1 Axes>"
      ]
     },
     "metadata": {},
     "output_type": "display_data"
    }
   ],
   "source": [
    "density_plots(df)"
   ]
  },
  {
   "cell_type": "code",
   "execution_count": 13,
   "metadata": {
    "collapsed": true
   },
   "outputs": [],
   "source": [
    "def correlation_matrix(df):\n",
    "    X = df.iloc[:,:-1]  #independent columns\n",
    "    y = df.iloc[:,-1]    #target column i.e price range\n",
    "    #get correlations of each features in dataset\n",
    "    corrmat = df.corr()\n",
    "    top_corr_features = corrmat.index\n",
    "    plt.figure(figsize=(10,6))\n",
    "    #plot heat map\n",
    "    g=sns.heatmap(df[top_corr_features].corr(),annot=True,cmap=\"RdYlGn\")"
   ]
  },
  {
   "cell_type": "code",
   "execution_count": 14,
   "metadata": {},
   "outputs": [
    {
     "data": {
      "image/png": "[encoded data removed]",
      "text/plain": [
       "<Figure size 720x432 with 2 Axes>"
      ]
     },
     "metadata": {},
     "output_type": "display_data"
    }
   ],
   "source": [
    "correlation_matrix(df)"
   ]
  },
  {
   "cell_type": "code",
   "execution_count": 15,
   "metadata": {
    "collapsed": true
   },
   "outputs": [],
   "source": [
    "df.drop('SepalWidthCm',axis=1, inplace=True)"
   ]
  },
  {
   "cell_type": "markdown",
   "metadata": {},
   "source": [
    "There are no columns having correlation in range -0.1 to 0.1 with target variable. SepalWidth has a correlation of -0.11 but lets retain it."
   ]
  },
  {
   "cell_type": "markdown",
   "metadata": {},
   "source": [
    "# Question 5\n",
    "Observe the independent variables variance and drop such variables having no variance or almost zero variance(variance < 0.1). \n",
    "They will be having almost no influence on the classification."
   ]
  },
  {
   "cell_type": "code",
   "execution_count": 16,
   "metadata": {
    "collapsed": true
   },
   "outputs": [],
   "source": [
    "X=df.iloc[:,:-1]\n",
    "y=df.iloc[:,-1]"
   ]
  },
  {
   "cell_type": "code",
   "execution_count": 17,
   "metadata": {},
   "outputs": [
    {
     "data": {
      "text/plain": [
       "array([0.67219356, 3.05627554, 0.57334444])"
      ]
     },
     "execution_count": 17,
     "metadata": {},
     "output_type": "execute_result"
    }
   ],
   "source": [
    "from sklearn.feature_selection import VarianceThreshold\n",
    "selector = VarianceThreshold()\n",
    "selector.fit_transform(X)\n",
    "\n",
    "selector.variances_"
   ]
  },
  {
   "cell_type": "code",
   "execution_count": 18,
   "metadata": {
    "collapsed": true
   },
   "outputs": [],
   "source": [
    "from statsmodels.stats.outliers_influence import variance_inflation_factor\n",
    "\n",
    "vif = pd.DataFrame()\n",
    "vif[\"VIF Factor\"] = [variance_inflation_factor(X.values, i) for i in range(X.shape[1])]\n",
    "vif[\"features\"] = X.columns"
   ]
  },
  {
   "cell_type": "code",
   "execution_count": 19,
   "metadata": {},
   "outputs": [
    {
     "data": {
      "text/html": [
       "<div>\n",
       "<style scoped>\n",
       "    .dataframe tbody tr th:only-of-type {\n",
       "        vertical-align: middle;\n",
       "    }\n",
       "\n",
       "    .dataframe tbody tr th {\n",
       "        vertical-align: top;\n",
       "    }\n",
       "\n",
       "    .dataframe thead th {\n",
       "        text-align: right;\n",
       "    }\n",
       "</style>\n",
       "<table border=\"1\" class=\"dataframe\">\n",
       "  <thead>\n",
       "    <tr style=\"text-align: right;\">\n",
       "      <th></th>\n",
       "      <th>VIF Factor</th>\n",
       "      <th>features</th>\n",
       "    </tr>\n",
       "  </thead>\n",
       "  <tbody>\n",
       "    <tr>\n",
       "      <th>0</th>\n",
       "      <td>16.2</td>\n",
       "      <td>SepalLengthCm</td>\n",
       "    </tr>\n",
       "    <tr>\n",
       "      <th>1</th>\n",
       "      <td>94.7</td>\n",
       "      <td>PetalLengthCm</td>\n",
       "    </tr>\n",
       "    <tr>\n",
       "      <th>2</th>\n",
       "      <td>48.7</td>\n",
       "      <td>PetalWidthCm</td>\n",
       "    </tr>\n",
       "  </tbody>\n",
       "</table>\n",
       "</div>"
      ],
      "text/plain": [
       "   VIF Factor       features\n",
       "0        16.2  SepalLengthCm\n",
       "1        94.7  PetalLengthCm\n",
       "2        48.7   PetalWidthCm"
      ]
     },
     "execution_count": 19,
     "metadata": {},
     "output_type": "execute_result"
    }
   ],
   "source": [
    "vif.round(1)"
   ]
  },
  {
   "cell_type": "markdown",
   "metadata": {},
   "source": [
    "# Question 6\n",
    "Plot the scatter matrix for all the variables."
   ]
  },
  {
   "cell_type": "code",
   "execution_count": 20,
   "metadata": {},
   "outputs": [
    {
     "name": "stderr",
     "output_type": "stream",
     "text": [
      "C:\\Users\\divyakamat\\Anaconda2\\envs\\py36\\lib\\site-packages\\statsmodels\\nonparametric\\kde.py:494: RuntimeWarning: invalid value encountered in true_divide\n",
      "  binned = fast_linbin(X,a,b,gridsize)/(delta*nobs)\n",
      "C:\\Users\\divyakamat\\Anaconda2\\envs\\py36\\lib\\site-packages\\statsmodels\\nonparametric\\kdetools.py:34: RuntimeWarning: invalid value encountered in double_scalars\n",
      "  FAC1 = 2*(np.pi*bw/RANGE)**2\n"
     ]
    },
    {
     "data": {
      "text/plain": [
       "<seaborn.axisgrid.PairGrid at 0x1b034f64e80>"
      ]
     },
     "execution_count": 20,
     "metadata": {},
     "output_type": "execute_result"
    },
    {
     "data": {
      "image/png": "[encoded data removed]",
      "text/plain": [
       "<Figure size 766.375x720 with 20 Axes>"
      ]
     },
     "metadata": {},
     "output_type": "display_data"
    }
   ],
   "source": [
    "sns.pairplot(data=df,hue='Species')"
   ]
  },
  {
   "cell_type": "markdown",
   "metadata": {},
   "source": [
    "# Split the dataset into training and test sets"
   ]
  },
  {
   "cell_type": "markdown",
   "metadata": {},
   "source": [
    "# Question 7\n",
    "Split the dataset into training and test sets with 80-20 ratio."
   ]
  },
  {
   "cell_type": "code",
   "execution_count": 21,
   "metadata": {},
   "outputs": [
    {
     "name": "stderr",
     "output_type": "stream",
     "text": [
      "C:\\Users\\divyakamat\\Anaconda2\\envs\\py36\\lib\\site-packages\\sklearn\\cross_validation.py:41: DeprecationWarning: This module was deprecated in version 0.18 in favor of the model_selection module into which all the refactored classes and functions are moved. Also note that the interface of the new CV iterators are different from that of this module. This module will be removed in 0.20.\n",
      "  \"This module will be removed in 0.20.\", DeprecationWarning)\n"
     ]
    }
   ],
   "source": [
    "# To split the dataset into train and test datasets\n",
    "from sklearn.model_selection import train_test_split\n",
    "from sklearn import metrics\n",
    "from sklearn.cross_validation import cross_val_score\n",
    "\n",
    "\n",
    "X_train,X_test,y_train,y_test=train_test_split(X,y,random_state=42,test_size=0.20,stratify=y)\n"
   ]
  },
  {
   "cell_type": "markdown",
   "metadata": {},
   "source": [
    "# Question 8 - Model\n",
    "Build the model and train and test on training and test sets respectively using scikit-learn. Print the Accuracy of the model with different values of k=3,5,9.\n",
    "\n",
    "Hint: For accuracy you can check accuracy_score() in scikit-learn"
   ]
  },
  {
   "cell_type": "code",
   "execution_count": 22,
   "metadata": {},
   "outputs": [
    {
     "name": "stdout",
     "output_type": "stream",
     "text": [
      "[0.967741935483871, 0.967741935483871, 0.9354838709677419]\n"
     ]
    }
   ],
   "source": [
    "scores = []\n",
    "for k in [3,5,9]:\n",
    "    NNH = KNeighborsClassifier(n_neighbors= k , weights = 'distance' )\n",
    "    NNH.fit(X_train, y_train)\n",
    "    predicted_labels = NNH.predict(X_test)\n",
    "    scores.append(metrics.accuracy_score(y_test, predicted_labels))\n",
    "    \n",
    "print(scores)\n"
   ]
  },
  {
   "cell_type": "markdown",
   "metadata": {},
   "source": [
    "# Question 9 - Cross Validation\n",
    "Run the KNN with no of neighbours to be 1,3,5..19 and *Find the optimal number of neighbours from the above list using the Mis \n",
    "classification error\n",
    "\n",
    "Hint:\n",
    "\n",
    "Misclassification error (MSE) = 1 - Test accuracy score. Calculated MSE for each model with neighbours = 1,3,5...19 and find the \n",
    "model with lowest MSE"
   ]
  },
  {
   "cell_type": "code",
   "execution_count": 23,
   "metadata": {},
   "outputs": [
    {
     "name": "stdout",
     "output_type": "stream",
     "text": [
      "[0.9354838709677419, 0.967741935483871, 0.967741935483871, 0.967741935483871, 0.967741935483871, 0.9354838709677419, 0.967741935483871, 0.9354838709677419, 0.9354838709677419, 0.9354838709677419, 0.967741935483871, 0.9354838709677419, 0.9354838709677419, 0.9354838709677419, 0.9354838709677419, 0.9354838709677419, 0.9354838709677419, 0.9354838709677419, 0.9354838709677419]\n"
     ]
    }
   ],
   "source": [
    "\n",
    "neighRange = range(1,20)\n",
    "# We can create Python dictionary using [] or dict()\n",
    "scores = []\n",
    "for k in neighRange:\n",
    "    model = KNeighborsClassifier(n_neighbors=k)\n",
    "    model.fit(X_train, y_train)\n",
    "    pred = model.predict(X_test)\n",
    "    scores.append(metrics.accuracy_score(y_test, pred))\n",
    "    \n",
    "print(scores)"
   ]
  },
  {
   "cell_type": "code",
   "execution_count": 24,
   "metadata": {},
   "outputs": [
    {
     "name": "stdout",
     "output_type": "stream",
     "text": [
      "The optimal number of neighbors is 2\n"
     ]
    }
   ],
   "source": [
    "\n",
    "#Recording the missclassification errors\n",
    "missClass = [1 - x for x in scores]\n",
    "\n",
    "# # determining best k\n",
    "optimal_k = neighRange[missClass.index(min(missClass))]\n",
    "print(\"The optimal number of neighbors is %d\" % optimal_k)\n"
   ]
  },
  {
   "cell_type": "code",
   "execution_count": null,
   "metadata": {},
   "outputs": [],
   "source": []
  },
  {
   "cell_type": "markdown",
   "metadata": {},
   "source": [
    "# Question 10\n",
    "Plot misclassification error vs k (with k value on X-axis) using matplotlib."
   ]
  },
  {
   "cell_type": "code",
   "execution_count": 25,
   "metadata": {},
   "outputs": [
    {
     "data": {
      "text/plain": [
       "Text(0,0.5,'Miss Classification Error')"
      ]
     },
     "execution_count": 25,
     "metadata": {},
     "output_type": "execute_result"
    },
    {
     "data": {
      "image/png": "[encoded data removed]",
      "text/plain": [
       "<Figure size 432x288 with 1 Axes>"
      ]
     },
     "metadata": {},
     "output_type": "display_data"
    }
   ],
   "source": [
    "plt.plot(neighRange, missClass)\n",
    "plt.xlabel('Value of K for KNN')\n",
    "plt.ylabel('Miss Classification Error')"
   ]
  },
  {
   "cell_type": "code",
   "execution_count": 26,
   "metadata": {},
   "outputs": [
    {
     "data": {
      "text/plain": [
       "[<matplotlib.lines.Line2D at 0x1b035d0c278>]"
      ]
     },
     "execution_count": 26,
     "metadata": {},
     "output_type": "execute_result"
    },
    {
     "data": {
      "image/png": "[encoded data removed]",
      "text/plain": [
       "<Figure size 432x288 with 1 Axes>"
      ]
     },
     "metadata": {},
     "output_type": "display_data"
    }
   ],
   "source": [
    "plt.plot(neighRange, scores)"
   ]
  },
  {
   "cell_type": "code",
   "execution_count": 27,
   "metadata": {},
   "outputs": [
    {
     "data": {
      "text/plain": [
       "2"
      ]
     },
     "execution_count": 27,
     "metadata": {},
     "output_type": "execute_result"
    }
   ],
   "source": [
    "optimal_k = neighRange[scores.index(max(scores))]\n",
    "optimal_k"
   ]
  },
  {
   "cell_type": "markdown",
   "metadata": {},
   "source": [
    "### Cross Validattion"
   ]
  },
  {
   "cell_type": "code",
   "execution_count": 30,
   "metadata": {},
   "outputs": [
    {
     "name": "stdout",
     "output_type": "stream",
     "text": [
      "[0.9262820512820513, 0.9352564102564103, 0.9429487179487179, 0.9512820512820512, 0.9429487179487179, 0.9596153846153846, 0.9429487179487179, 0.9512820512820512, 0.9429487179487179, 0.9596153846153846, 0.9429487179487179, 0.9512820512820512, 0.9596153846153845, 0.9596153846153845, 0.9512820512820512, 0.9512820512820512, 0.9512820512820512, 0.9679487179487178, 0.9512820512820512, 0.9596153846153845, 0.9596153846153845, 0.9596153846153845, 0.9512820512820512, 0.9512820512820512, 0.9512820512820512, 0.942948717948718, 0.9512820512820512, 0.9512820512820512, 0.942948717948718, 0.9346153846153846]\n"
     ]
    }
   ],
   "source": [
    "#search for an optimal value of K for KNN\n",
    "\n",
    "# list of integers 1 to 30\n",
    "# integers we want to try\n",
    "k_range = range(1, 31)\n",
    "\n",
    "# list of scores from k_range\n",
    "k_scores = []\n",
    "\n",
    "# 1. we will loop through reasonable values of k\n",
    "for k in k_range:\n",
    "    # 2. run KNeighborsClassifier with k neighbours\n",
    "    knn = KNeighborsClassifier(n_neighbors=k)\n",
    "    # 3. obtain cross_val_score for KNeighborsClassifier with k neighbours\n",
    "    scores = cross_val_score(knn, X_train, y_train, cv=10, scoring='accuracy')\n",
    "    # 4. append mean of scores for k neighbors to k_scores list\n",
    "    k_scores.append(scores.mean())\n",
    "print(k_scores)"
   ]
  },
  {
   "cell_type": "code",
   "execution_count": 31,
   "metadata": {},
   "outputs": [
    {
     "data": {
      "text/plain": [
       "Text(0,0.5,'Cross-Validated Accuracy')"
      ]
     },
     "execution_count": 31,
     "metadata": {},
     "output_type": "execute_result"
    },
    {
     "data": {
      "image/png": "[encoded data removed]",
      "text/plain": [
       "<Figure size 432x288 with 1 Axes>"
      ]
     },
     "metadata": {},
     "output_type": "display_data"
    }
   ],
   "source": [
    "# plot the value of K for KNN (x-axis) versus the cross-validated accuracy (y-axis)\n",
    "plt.plot(k_range, k_scores)\n",
    "plt.xlabel('Value of K for KNN')\n",
    "plt.ylabel('Cross-Validated Accuracy')"
   ]
  },
  {
   "cell_type": "markdown",
   "metadata": {},
   "source": [
    "### Parameter tuning using GridSearchCV"
   ]
  },
  {
   "cell_type": "code",
   "execution_count": 33,
   "metadata": {},
   "outputs": [
    {
     "name": "stderr",
     "output_type": "stream",
     "text": [
      "C:\\Users\\divyakamat\\Anaconda2\\envs\\py36\\lib\\site-packages\\sklearn\\grid_search.py:42: DeprecationWarning: This module was deprecated in version 0.18 in favor of the model_selection module into which all the refactored classes and functions are moved. This module will be removed in 0.20.\n",
      "  DeprecationWarning)\n"
     ]
    }
   ],
   "source": [
    "from sklearn.grid_search import GridSearchCV"
   ]
  },
  {
   "cell_type": "code",
   "execution_count": 34,
   "metadata": {},
   "outputs": [
    {
     "name": "stdout",
     "output_type": "stream",
     "text": [
      "[1, 2, 3, 4, 5, 6, 7, 8, 9, 10, 11, 12, 13, 14, 15, 16, 17, 18, 19, 20, 21, 22, 23, 24, 25, 26, 27, 28, 29, 30]\n"
     ]
    }
   ],
   "source": [
    "# define the parameter values that should be searched\n",
    "# for python 2, k_range = range(1, 31)\n",
    "k_range = list(range(1, 31))\n",
    "print(k_range)\n",
    "\n",
    "# Another parameter besides k that we might vary is the weights parameters\n",
    "# default options --> uniform (all points in the neighborhood are weighted equally)\n",
    "# another option --> distance (weights closer neighbors more heavily than further neighbors)\n",
    "\n",
    "# we create a list\n",
    "weight_options = ['uniform', 'distance']"
   ]
  },
  {
   "cell_type": "code",
   "execution_count": 35,
   "metadata": {},
   "outputs": [
    {
     "name": "stdout",
     "output_type": "stream",
     "text": [
      "{'n_neighbors': [1, 2, 3, 4, 5, 6, 7, 8, 9, 10, 11, 12, 13, 14, 15, 16, 17, 18, 19, 20, 21, 22, 23, 24, 25, 26, 27, 28, 29, 30], 'weights': ['uniform', 'distance']}\n"
     ]
    }
   ],
   "source": [
    "param_grid = dict(n_neighbors=k_range,weights=weight_options)\n",
    "print(param_grid)"
   ]
  },
  {
   "cell_type": "code",
   "execution_count": 36,
   "metadata": {},
   "outputs": [
    {
     "data": {
      "text/plain": [
       "GridSearchCV(cv=10, error_score='raise',\n",
       "       estimator=KNeighborsClassifier(algorithm='auto', leaf_size=30, metric='minkowski',\n",
       "           metric_params=None, n_jobs=1, n_neighbors=30, p=2,\n",
       "           weights='uniform'),\n",
       "       fit_params={}, iid=True, n_jobs=1,\n",
       "       param_grid={'n_neighbors': [1, 2, 3, 4, 5, 6, 7, 8, 9, 10, 11, 12, 13, 14, 15, 16, 17, 18, 19, 20, 21, 22, 23, 24, 25, 26, 27, 28, 29, 30], 'weights': ['uniform', 'distance']},\n",
       "       pre_dispatch='2*n_jobs', refit=True, scoring='accuracy', verbose=0)"
      ]
     },
     "execution_count": 36,
     "metadata": {},
     "output_type": "execute_result"
    }
   ],
   "source": [
    "# instantiate the grid\n",
    "grid = GridSearchCV(knn, param_grid, cv=10, scoring='accuracy')\n",
    "# fit the grid with data\n",
    "grid.fit(X_train, y_train)"
   ]
  },
  {
   "cell_type": "code",
   "execution_count": 37,
   "metadata": {},
   "outputs": [
    {
     "data": {
      "text/plain": [
       "[mean: 0.92562, std: 0.05641, params: {'n_neighbors': 1, 'weights': 'uniform'},\n",
       " mean: 0.92562, std: 0.05641, params: {'n_neighbors': 1, 'weights': 'distance'},\n",
       " mean: 0.93388, std: 0.07743, params: {'n_neighbors': 2, 'weights': 'uniform'},\n",
       " mean: 0.92562, std: 0.05641, params: {'n_neighbors': 2, 'weights': 'distance'},\n",
       " mean: 0.94215, std: 0.05084, params: {'n_neighbors': 3, 'weights': 'uniform'},\n",
       " mean: 0.94215, std: 0.05084, params: {'n_neighbors': 3, 'weights': 'distance'},\n",
       " mean: 0.95041, std: 0.05264, params: {'n_neighbors': 4, 'weights': 'uniform'},\n",
       " mean: 0.94215, std: 0.05084, params: {'n_neighbors': 4, 'weights': 'distance'},\n",
       " mean: 0.94215, std: 0.05084, params: {'n_neighbors': 5, 'weights': 'uniform'},\n",
       " mean: 0.94215, std: 0.05084, params: {'n_neighbors': 5, 'weights': 'distance'},\n",
       " mean: 0.95868, std: 0.05310, params: {'n_neighbors': 6, 'weights': 'uniform'},\n",
       " mean: 0.94215, std: 0.05084, params: {'n_neighbors': 6, 'weights': 'distance'},\n",
       " mean: 0.94215, std: 0.05084, params: {'n_neighbors': 7, 'weights': 'uniform'},\n",
       " mean: 0.95041, std: 0.05264, params: {'n_neighbors': 7, 'weights': 'distance'},\n",
       " mean: 0.95041, std: 0.05264, params: {'n_neighbors': 8, 'weights': 'uniform'},\n",
       " mean: 0.94215, std: 0.05084, params: {'n_neighbors': 8, 'weights': 'distance'},\n",
       " mean: 0.94215, std: 0.05084, params: {'n_neighbors': 9, 'weights': 'uniform'},\n",
       " mean: 0.95041, std: 0.05264, params: {'n_neighbors': 9, 'weights': 'distance'},\n",
       " mean: 0.95868, std: 0.05310, params: {'n_neighbors': 10, 'weights': 'uniform'},\n",
       " mean: 0.95041, std: 0.05264, params: {'n_neighbors': 10, 'weights': 'distance'},\n",
       " mean: 0.94215, std: 0.05084, params: {'n_neighbors': 11, 'weights': 'uniform'},\n",
       " mean: 0.95041, std: 0.05264, params: {'n_neighbors': 11, 'weights': 'distance'},\n",
       " mean: 0.95041, std: 0.05264, params: {'n_neighbors': 12, 'weights': 'uniform'},\n",
       " mean: 0.95041, std: 0.05264, params: {'n_neighbors': 12, 'weights': 'distance'},\n",
       " mean: 0.95868, std: 0.05310, params: {'n_neighbors': 13, 'weights': 'uniform'},\n",
       " mean: 0.95041, std: 0.05264, params: {'n_neighbors': 13, 'weights': 'distance'},\n",
       " mean: 0.95868, std: 0.05310, params: {'n_neighbors': 14, 'weights': 'uniform'},\n",
       " mean: 0.95868, std: 0.05310, params: {'n_neighbors': 14, 'weights': 'distance'},\n",
       " mean: 0.95041, std: 0.05264, params: {'n_neighbors': 15, 'weights': 'uniform'},\n",
       " mean: 0.95868, std: 0.05310, params: {'n_neighbors': 15, 'weights': 'distance'},\n",
       " mean: 0.95041, std: 0.05264, params: {'n_neighbors': 16, 'weights': 'uniform'},\n",
       " mean: 0.95868, std: 0.05310, params: {'n_neighbors': 16, 'weights': 'distance'},\n",
       " mean: 0.95041, std: 0.05264, params: {'n_neighbors': 17, 'weights': 'uniform'},\n",
       " mean: 0.95868, std: 0.05310, params: {'n_neighbors': 17, 'weights': 'distance'},\n",
       " mean: 0.96694, std: 0.05223, params: {'n_neighbors': 18, 'weights': 'uniform'},\n",
       " mean: 0.95868, std: 0.05310, params: {'n_neighbors': 18, 'weights': 'distance'},\n",
       " mean: 0.95041, std: 0.05264, params: {'n_neighbors': 19, 'weights': 'uniform'},\n",
       " mean: 0.95868, std: 0.05310, params: {'n_neighbors': 19, 'weights': 'distance'},\n",
       " mean: 0.95868, std: 0.05310, params: {'n_neighbors': 20, 'weights': 'uniform'},\n",
       " mean: 0.95868, std: 0.05310, params: {'n_neighbors': 20, 'weights': 'distance'},\n",
       " mean: 0.95868, std: 0.05310, params: {'n_neighbors': 21, 'weights': 'uniform'},\n",
       " mean: 0.95868, std: 0.05310, params: {'n_neighbors': 21, 'weights': 'distance'},\n",
       " mean: 0.95868, std: 0.05310, params: {'n_neighbors': 22, 'weights': 'uniform'},\n",
       " mean: 0.95041, std: 0.05264, params: {'n_neighbors': 22, 'weights': 'distance'},\n",
       " mean: 0.95041, std: 0.05264, params: {'n_neighbors': 23, 'weights': 'uniform'},\n",
       " mean: 0.95041, std: 0.05264, params: {'n_neighbors': 23, 'weights': 'distance'},\n",
       " mean: 0.95041, std: 0.06450, params: {'n_neighbors': 24, 'weights': 'uniform'},\n",
       " mean: 0.95041, std: 0.05264, params: {'n_neighbors': 24, 'weights': 'distance'},\n",
       " mean: 0.95041, std: 0.05264, params: {'n_neighbors': 25, 'weights': 'uniform'},\n",
       " mean: 0.95041, std: 0.05264, params: {'n_neighbors': 25, 'weights': 'distance'},\n",
       " mean: 0.94215, std: 0.06303, params: {'n_neighbors': 26, 'weights': 'uniform'},\n",
       " mean: 0.95041, std: 0.05264, params: {'n_neighbors': 26, 'weights': 'distance'},\n",
       " mean: 0.95041, std: 0.05264, params: {'n_neighbors': 27, 'weights': 'uniform'},\n",
       " mean: 0.95041, std: 0.05264, params: {'n_neighbors': 27, 'weights': 'distance'},\n",
       " mean: 0.95041, std: 0.06450, params: {'n_neighbors': 28, 'weights': 'uniform'},\n",
       " mean: 0.95041, std: 0.05264, params: {'n_neighbors': 28, 'weights': 'distance'},\n",
       " mean: 0.94215, std: 0.06303, params: {'n_neighbors': 29, 'weights': 'uniform'},\n",
       " mean: 0.95041, std: 0.05264, params: {'n_neighbors': 29, 'weights': 'distance'},\n",
       " mean: 0.93388, std: 0.06039, params: {'n_neighbors': 30, 'weights': 'uniform'},\n",
       " mean: 0.95041, std: 0.05264, params: {'n_neighbors': 30, 'weights': 'distance'}]"
      ]
     },
     "execution_count": 37,
     "metadata": {},
     "output_type": "execute_result"
    }
   ],
   "source": [
    "# view the complete results (list of named tuples)\n",
    "grid.grid_scores_"
   ]
  },
  {
   "cell_type": "code",
   "execution_count": 38,
   "metadata": {},
   "outputs": [
    {
     "name": "stdout",
     "output_type": "stream",
     "text": [
      "[0.9256198347107438, 0.9256198347107438, 0.9338842975206612, 0.9256198347107438, 0.9421487603305785, 0.9421487603305785, 0.9504132231404959, 0.9421487603305785, 0.9421487603305785, 0.9421487603305785, 0.9586776859504132, 0.9421487603305785, 0.9421487603305785, 0.9504132231404959, 0.9504132231404959, 0.9421487603305785, 0.9421487603305785, 0.9504132231404959, 0.9586776859504132, 0.9504132231404959, 0.9421487603305785, 0.9504132231404959, 0.9504132231404959, 0.9504132231404959, 0.9586776859504132, 0.9504132231404959, 0.9586776859504132, 0.9586776859504132, 0.9504132231404959, 0.9586776859504132, 0.9504132231404959, 0.9586776859504132, 0.9504132231404959, 0.9586776859504132, 0.9669421487603306, 0.9586776859504132, 0.9504132231404959, 0.9586776859504132, 0.9586776859504132, 0.9586776859504132, 0.9586776859504132, 0.9586776859504132, 0.9586776859504132, 0.9504132231404959, 0.9504132231404959, 0.9504132231404959, 0.9504132231404959, 0.9504132231404959, 0.9504132231404959, 0.9504132231404959, 0.9421487603305785, 0.9504132231404959, 0.9504132231404959, 0.9504132231404959, 0.9504132231404959, 0.9504132231404959, 0.9421487603305785, 0.9504132231404959, 0.9338842975206612, 0.9504132231404959]\n"
     ]
    }
   ],
   "source": [
    "\n",
    "# create a list of the mean scores only\n",
    "# list comprehension to loop through grid.grid_scores\n",
    "grid_mean_scores = [result.mean_validation_score for result in grid.grid_scores_]\n",
    "print(grid_mean_scores)"
   ]
  },
  {
   "cell_type": "code",
   "execution_count": 39,
   "metadata": {},
   "outputs": [
    {
     "name": "stdout",
     "output_type": "stream",
     "text": [
      "0.9669421487603306\n",
      "{'n_neighbors': 18, 'weights': 'uniform'}\n",
      "KNeighborsClassifier(algorithm='auto', leaf_size=30, metric='minkowski',\n",
      "           metric_params=None, n_jobs=1, n_neighbors=18, p=2,\n",
      "           weights='uniform')\n"
     ]
    }
   ],
   "source": [
    "# examine the best model\n",
    "\n",
    "# Single best score achieved across all params (k)\n",
    "print(grid.best_score_)\n",
    "\n",
    "# Dictionary containing the parameters (k) used to generate that score\n",
    "print(grid.best_params_)\n",
    "\n",
    "# Actual model object fit with those best parameters\n",
    "# Shows default parameters that we did not specify\n",
    "print(grid.best_estimator_)"
   ]
  },
  {
   "cell_type": "code",
   "execution_count": 40,
   "metadata": {},
   "outputs": [
    {
     "data": {
      "text/plain": [
       "KNeighborsClassifier(algorithm='auto', leaf_size=30, metric='minkowski',\n",
       "           metric_params=None, n_jobs=1, n_neighbors=18, p=2,\n",
       "           weights='uniform')"
      ]
     },
     "execution_count": 40,
     "metadata": {},
     "output_type": "execute_result"
    }
   ],
   "source": [
    "\n",
    "# train your model using all data and the best known parameters\n",
    "\n",
    "# instantiate model with best parameters\n",
    "knn = KNeighborsClassifier(n_neighbors=18, weights='uniform')\n",
    "\n",
    "# fit with X and y, not X_train and y_train\n",
    "# even if we use train/test split, we should train on X and y before making predictions on new data\n",
    "# otherwise we throw away potential valuable data we can learn from\n",
    "knn.fit(X_train, y_train)"
   ]
  },
  {
   "cell_type": "code",
   "execution_count": 46,
   "metadata": {},
   "outputs": [
    {
     "data": {
      "text/plain": [
       "0.9354838709677419"
      ]
     },
     "execution_count": 46,
     "metadata": {},
     "output_type": "execute_result"
    }
   ],
   "source": [
    "y_predict = knn.predict(X_test)\n",
    "\n",
    "# get the accuracy score which is how many test cases were correctly predicted as a ratio of total number of test cases\n",
    "knn.score(X_test,y_test)\n"
   ]
  },
  {
   "cell_type": "code",
   "execution_count": 47,
   "metadata": {},
   "outputs": [
    {
     "name": "stdout",
     "output_type": "stream",
     "text": [
      "[[10  0  1]\n",
      " [ 0 10  0]\n",
      " [ 1  0  9]]\n"
     ]
    }
   ],
   "source": [
    "print(metrics.confusion_matrix(y_test, y_predict))"
   ]
  },
  {
   "cell_type": "code",
   "execution_count": 82,
   "metadata": {},
   "outputs": [
    {
     "data": {
      "text/html": [
       "<div>\n",
       "<style scoped>\n",
       "    .dataframe tbody tr th:only-of-type {\n",
       "        vertical-align: middle;\n",
       "    }\n",
       "\n",
       "    .dataframe tbody tr th {\n",
       "        vertical-align: top;\n",
       "    }\n",
       "\n",
       "    .dataframe thead th {\n",
       "        text-align: right;\n",
       "    }\n",
       "</style>\n",
       "<table border=\"1\" class=\"dataframe\">\n",
       "  <thead>\n",
       "    <tr style=\"text-align: right;\">\n",
       "      <th></th>\n",
       "      <th>Species</th>\n",
       "      <th>y_predict</th>\n",
       "    </tr>\n",
       "  </thead>\n",
       "  <tbody>\n",
       "    <tr>\n",
       "      <th>0</th>\n",
       "      <td>3</td>\n",
       "      <td>3</td>\n",
       "    </tr>\n",
       "    <tr>\n",
       "      <th>1</th>\n",
       "      <td>2</td>\n",
       "      <td>2</td>\n",
       "    </tr>\n",
       "    <tr>\n",
       "      <th>2</th>\n",
       "      <td>2</td>\n",
       "      <td>2</td>\n",
       "    </tr>\n",
       "    <tr>\n",
       "      <th>3</th>\n",
       "      <td>1</td>\n",
       "      <td>1</td>\n",
       "    </tr>\n",
       "    <tr>\n",
       "      <th>4</th>\n",
       "      <td>1</td>\n",
       "      <td>1</td>\n",
       "    </tr>\n",
       "    <tr>\n",
       "      <th>5</th>\n",
       "      <td>1</td>\n",
       "      <td>1</td>\n",
       "    </tr>\n",
       "    <tr>\n",
       "      <th>6</th>\n",
       "      <td>3</td>\n",
       "      <td>3</td>\n",
       "    </tr>\n",
       "    <tr>\n",
       "      <th>7</th>\n",
       "      <td>2</td>\n",
       "      <td>2</td>\n",
       "    </tr>\n",
       "    <tr>\n",
       "      <th>8</th>\n",
       "      <td>1</td>\n",
       "      <td>1</td>\n",
       "    </tr>\n",
       "    <tr>\n",
       "      <th>9</th>\n",
       "      <td>2</td>\n",
       "      <td>2</td>\n",
       "    </tr>\n",
       "    <tr>\n",
       "      <th>10</th>\n",
       "      <td>2</td>\n",
       "      <td>2</td>\n",
       "    </tr>\n",
       "    <tr>\n",
       "      <th>11</th>\n",
       "      <td>3</td>\n",
       "      <td>3</td>\n",
       "    </tr>\n",
       "    <tr>\n",
       "      <th>12</th>\n",
       "      <td>3</td>\n",
       "      <td>3</td>\n",
       "    </tr>\n",
       "    <tr>\n",
       "      <th>13</th>\n",
       "      <td>3</td>\n",
       "      <td>3</td>\n",
       "    </tr>\n",
       "    <tr>\n",
       "      <th>14</th>\n",
       "      <td>2</td>\n",
       "      <td>2</td>\n",
       "    </tr>\n",
       "    <tr>\n",
       "      <th>15</th>\n",
       "      <td>1</td>\n",
       "      <td>1</td>\n",
       "    </tr>\n",
       "    <tr>\n",
       "      <th>16</th>\n",
       "      <td>1</td>\n",
       "      <td>1</td>\n",
       "    </tr>\n",
       "    <tr>\n",
       "      <th>17</th>\n",
       "      <td>1</td>\n",
       "      <td>1</td>\n",
       "    </tr>\n",
       "    <tr>\n",
       "      <th>18</th>\n",
       "      <td>2</td>\n",
       "      <td>2</td>\n",
       "    </tr>\n",
       "    <tr>\n",
       "      <th>19</th>\n",
       "      <td>1</td>\n",
       "      <td>3</td>\n",
       "    </tr>\n",
       "    <tr>\n",
       "      <th>20</th>\n",
       "      <td>3</td>\n",
       "      <td>3</td>\n",
       "    </tr>\n",
       "    <tr>\n",
       "      <th>21</th>\n",
       "      <td>1</td>\n",
       "      <td>1</td>\n",
       "    </tr>\n",
       "    <tr>\n",
       "      <th>22</th>\n",
       "      <td>3</td>\n",
       "      <td>1</td>\n",
       "    </tr>\n",
       "    <tr>\n",
       "      <th>23</th>\n",
       "      <td>2</td>\n",
       "      <td>2</td>\n",
       "    </tr>\n",
       "    <tr>\n",
       "      <th>24</th>\n",
       "      <td>3</td>\n",
       "      <td>3</td>\n",
       "    </tr>\n",
       "    <tr>\n",
       "      <th>25</th>\n",
       "      <td>3</td>\n",
       "      <td>3</td>\n",
       "    </tr>\n",
       "    <tr>\n",
       "      <th>26</th>\n",
       "      <td>2</td>\n",
       "      <td>2</td>\n",
       "    </tr>\n",
       "    <tr>\n",
       "      <th>27</th>\n",
       "      <td>2</td>\n",
       "      <td>2</td>\n",
       "    </tr>\n",
       "    <tr>\n",
       "      <th>28</th>\n",
       "      <td>1</td>\n",
       "      <td>1</td>\n",
       "    </tr>\n",
       "    <tr>\n",
       "      <th>29</th>\n",
       "      <td>3</td>\n",
       "      <td>3</td>\n",
       "    </tr>\n",
       "    <tr>\n",
       "      <th>30</th>\n",
       "      <td>1</td>\n",
       "      <td>1</td>\n",
       "    </tr>\n",
       "  </tbody>\n",
       "</table>\n",
       "</div>"
      ],
      "text/plain": [
       "    Species  y_predict\n",
       "0         3          3\n",
       "1         2          2\n",
       "2         2          2\n",
       "3         1          1\n",
       "4         1          1\n",
       "5         1          1\n",
       "6         3          3\n",
       "7         2          2\n",
       "8         1          1\n",
       "9         2          2\n",
       "10        2          2\n",
       "11        3          3\n",
       "12        3          3\n",
       "13        3          3\n",
       "14        2          2\n",
       "15        1          1\n",
       "16        1          1\n",
       "17        1          1\n",
       "18        2          2\n",
       "19        1          3\n",
       "20        3          3\n",
       "21        1          1\n",
       "22        3          1\n",
       "23        2          2\n",
       "24        3          3\n",
       "25        3          3\n",
       "26        2          2\n",
       "27        2          2\n",
       "28        1          1\n",
       "29        3          3\n",
       "30        1          1"
      ]
     },
     "execution_count": 82,
     "metadata": {},
     "output_type": "execute_result"
    }
   ],
   "source": [
    "# df_out = pd.DataFrame(y_predict,columns=['y_predict'])\n",
    "# df_test = pd.DataFrame(y_test)\n",
    "# df_test = df_test.reset_index(drop=True)\n",
    "pd.concat([pd.DataFrame(y_test).reset_index(drop=True),pd.DataFrame(y_predict,columns=['y_predict'])],axis=1)"
   ]
  },
  {
   "cell_type": "code",
   "execution_count": null,
   "metadata": {
    "collapsed": true
   },
   "outputs": [],
   "source": []
  }
 ],
 "metadata": {
  "kernelspec": {
   "display_name": "Python 3",
   "language": "python",
   "name": "python3"
  },
  "language_info": {
   "codemirror_mode": {
    "name": "ipython",
    "version": 3
   },
   "file_extension": ".py",
   "mimetype": "text/x-python",
   "name": "python",
   "nbconvert_exporter": "python",
   "pygments_lexer": "ipython3",
   "version": "3.6.1"
  }
 },
 "nbformat": 4,
 "nbformat_minor": 2
}
