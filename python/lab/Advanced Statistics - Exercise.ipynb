{
 "cells": [
  {
   "cell_type": "markdown",
   "metadata": {},
   "source": [
    "### Concepts\n",
    "\n",
    "1. <b> Mutually Exclusive Events </b> - Two events are mutually exclusive or disjoint if they cannot both occur at the same time. Rolling of a dice, this is an example of Mutually Exclusive Events,  it is impossible to roll a five and a three on a single die at the same time.\n",
    "2. Binomial distribution is a widely used probability distribution of - <b> Discrete random variable </b>\n",
    "3. <b> Probability </b> - used to deal with uncertainty\n",
    "4. Sample Space - set of all possible outcomes\n",
    "5. Experiment - is a process that is performed to understand and observe possible outcomes\n",
    "6. Event - the phenomenon or outcome of your interest in an experiment\n",
    "7. Outcome is the result of a single trial. So, if head lands, the outcome of or coin toss experiment is “Heads”\n",
    "8. <b> Conditional probability </b> is the probability of an event A occurring, given that B has already occurred.\n"
   ]
  },
  {
   "cell_type": "code",
   "execution_count": 1,
   "metadata": {
    "collapsed": true
   },
   "outputs": [],
   "source": [
    "# Import necessary libraries\n",
    "\n",
    "import numpy as np\n",
    "import scipy.stats as stats\n",
    "import matplotlib.pyplot as plt"
   ]
  },
  {
   "cell_type": "markdown",
   "metadata": {},
   "source": [
    "### 1. You flip a fair coin 10 times. What is the probability of getting 8 or more heads?"
   ]
  },
  {
   "cell_type": "code",
   "execution_count": 2,
   "metadata": {},
   "outputs": [
    {
     "data": {
      "text/plain": [
       "array([ 0.00097656,  0.00976563,  0.04394531,  0.1171875 ,  0.20507813,\n",
       "        0.24609375,  0.20507813,  0.1171875 ,  0.04394531,  0.00976563,\n",
       "        0.00097656])"
      ]
     },
     "execution_count": 2,
     "metadata": {},
     "output_type": "execute_result"
    }
   ],
   "source": [
    "n = 10\n",
    "p = 0.5\n",
    "k = np.arange(0,11)\n",
    "\n",
    "binomial = stats.binom.pmf(k,n,p)\n",
    "\n",
    "binomial"
   ]
  },
  {
   "cell_type": "code",
   "execution_count": 3,
   "metadata": {},
   "outputs": [
    {
     "data": {
      "text/plain": [
       "array([  9.76562500e-04,   1.07421875e-02,   5.46875000e-02,\n",
       "         1.71875000e-01,   3.76953125e-01,   6.23046875e-01,\n",
       "         8.28125000e-01,   9.45312500e-01,   9.89257812e-01,\n",
       "         9.99023438e-01,   1.00000000e+00])"
      ]
     },
     "execution_count": 3,
     "metadata": {},
     "output_type": "execute_result"
    }
   ],
   "source": [
    "binomial_cdf = stats.binom.cdf(k,n,p)\n",
    "binomial_cdf"
   ]
  },
  {
   "cell_type": "markdown",
   "metadata": {},
   "source": [
    "#### There are two ways to calculate the probability of getting 8 or more heads\n",
    "- Approach 1 : Add up the probability of getting 8 heads + 9 heads + 10 heads\n",
    "- Approach 2 : Or (1 - probability of getting 7 heads ) =  probability of getting 8 or more heads"
   ]
  },
  {
   "cell_type": "code",
   "execution_count": 4,
   "metadata": {},
   "outputs": [
    {
     "data": {
      "text/plain": [
       "0.0546875"
      ]
     },
     "execution_count": 4,
     "metadata": {},
     "output_type": "execute_result"
    }
   ],
   "source": [
    "# Approach 1\n",
    "binomial[8] + binomial[9] + binomial[10]"
   ]
  },
  {
   "cell_type": "code",
   "execution_count": 5,
   "metadata": {},
   "outputs": [
    {
     "data": {
      "text/plain": [
       "0.0546875"
      ]
     },
     "execution_count": 5,
     "metadata": {},
     "output_type": "execute_result"
    }
   ],
   "source": [
    "# Approach 2\n",
    "1 - binomial_cdf[7]"
   ]
  },
  {
   "cell_type": "code",
   "execution_count": 6,
   "metadata": {},
   "outputs": [
    {
     "data": {
      "image/png": "[encoded data removed]",
      "text/plain": [
       "<matplotlib.figure.Figure at 0x277ebc34780>"
      ]
     },
     "metadata": {},
     "output_type": "display_data"
    }
   ],
   "source": [
    "plt.plot(k,binomial, 'o-')\n",
    "plt.title('Binomial')\n",
    "plt.xlabel('Number of coin flips')\n",
    "plt.ylabel('Prob of getting head')\n",
    "plt.show()"
   ]
  },
  {
   "cell_type": "markdown",
   "metadata": {},
   "source": [
    "### 2. The probability that you will win a certain game is 0.3. You play the game 20 times. What is the mean of this binomial distribution?\n",
    "\n",
    "Mean or Expected Value of binomial distribution is \n",
    "E(X) = np"
   ]
  },
  {
   "cell_type": "code",
   "execution_count": 10,
   "metadata": {},
   "outputs": [
    {
     "data": {
      "text/plain": [
       "6.0"
      ]
     },
     "execution_count": 10,
     "metadata": {},
     "output_type": "execute_result"
    }
   ],
   "source": [
    "p2 = 0.3\n",
    "n2 = 20\n",
    "\n",
    "#Mean \n",
    "E_mean = p2 * n2\n",
    "E_mean\n"
   ]
  },
  {
   "cell_type": "markdown",
   "metadata": {},
   "source": [
    "### 3. An automatic camera records the number of cars running a red light at an intersection (that is, the cars were going through when the red light was against the car). Analysis of the data shows that on average 15% of light changes record a car running a red light. Assume that the data has a binomial distribution. What is theprobability that in 20 light changes there will be exactly three (3) cars running a red light?"
   ]
  },
  {
   "cell_type": "code",
   "execution_count": 11,
   "metadata": {},
   "outputs": [
    {
     "data": {
      "text/plain": [
       "0.24282889614926725"
      ]
     },
     "execution_count": 11,
     "metadata": {},
     "output_type": "execute_result"
    }
   ],
   "source": [
    "p = 0.15\n",
    "n = 20\n",
    "\n",
    "X = 3\n",
    "\n",
    "binomial_3 = stats.binom.pmf(X,n,p)\n",
    "binomial_3"
   ]
  },
  {
   "cell_type": "markdown",
   "metadata": {},
   "source": [
    "That is, the probability that in 20 light changes there will be three (3) cars running a red light is 0.24 (24%).\n"
   ]
  },
  {
   "cell_type": "markdown",
   "metadata": {},
   "source": [
    "### 4. There are 15 sets of traffic lights on the journey.The probability that a driver must stop at any one traffic light coming to alliance University is 0.3 \n",
    "\n",
    "### a) What is the probability that a student must stop at exactly 2 of the 15 sets oftraffic lights? "
   ]
  },
  {
   "cell_type": "code",
   "execution_count": 12,
   "metadata": {},
   "outputs": [
    {
     "data": {
      "text/plain": [
       "0.091560114834615597"
      ]
     },
     "execution_count": 12,
     "metadata": {},
     "output_type": "execute_result"
    }
   ],
   "source": [
    "p = 0.3\n",
    "n = 15\n",
    "\n",
    "X = 2\n",
    "\n",
    "binomial_3 = stats.binom.pmf(X,n,p)\n",
    "binomial_3"
   ]
  },
  {
   "cell_type": "markdown",
   "metadata": {},
   "source": [
    "### b) What is the probability that a student will be stopped at 1 or more of the 15sets of traffic lights?"
   ]
  },
  {
   "cell_type": "code",
   "execution_count": 20,
   "metadata": {},
   "outputs": [
    {
     "data": {
      "text/plain": [
       "0.99525243849005696"
      ]
     },
     "execution_count": 20,
     "metadata": {},
     "output_type": "execute_result"
    }
   ],
   "source": [
    "p = 0.3\n",
    "n = 15\n",
    "\n",
    "X = np.arange(0,16)\n",
    "\n",
    "binomial_4 = stats.binom.cdf(X,n,p)\n",
    "1 - binomial_4[0]"
   ]
  },
  {
   "cell_type": "markdown",
   "metadata": {},
   "source": [
    "### 5. What is the area under the curve of a probability distribution? Explain\n",
    "The area is 1 by definition, meaning that the probability that a score chosen at random will occur under the curve is 1."
   ]
  },
  {
   "cell_type": "markdown",
   "metadata": {},
   "source": [
    "### 6. My Bank has a large Credit Card portfolio. Based on empirical data, they have found that 60% of the customers pay their bill on time. If a sample of 10 accounts is selected from the current database, construct the Probability Distribution of accounts paying on time"
   ]
  },
  {
   "cell_type": "code",
   "execution_count": 22,
   "metadata": {},
   "outputs": [
    {
     "data": {
      "image/png": "[encoded data removed]",
      "text/plain": [
       "<matplotlib.figure.Figure at 0x277ec0ed4e0>"
      ]
     },
     "metadata": {},
     "output_type": "display_data"
    }
   ],
   "source": [
    "p = 0.6\n",
    "n = 10\n",
    "\n",
    "X = np.arange(1,11)\n",
    "binomial = stats.binom.pmf(X,n,p)\n",
    "\n",
    "\n",
    "plt.plot(X,binomial, 'o-')\n",
    "plt.title('Binomial')\n",
    "plt.xlabel('Number of accounts')\n",
    "plt.ylabel('Prob of loan repay for each Account')\n",
    "plt.show()"
   ]
  },
  {
   "cell_type": "markdown",
   "metadata": {},
   "source": [
    "### 7. If the likelihood of a tagged order form is 0.1, What is the probability that there are three tagged order forms in the sample of four?"
   ]
  },
  {
   "cell_type": "code",
   "execution_count": 23,
   "metadata": {},
   "outputs": [
    {
     "data": {
      "text/plain": [
       "0.0036000000000000029"
      ]
     },
     "execution_count": 23,
     "metadata": {},
     "output_type": "execute_result"
    }
   ],
   "source": [
    "p = 0.1\n",
    "n = 4\n",
    "X = 3\n",
    "\n",
    "binomial = stats.binom.pmf(X,n,p)\n",
    "binomial"
   ]
  },
  {
   "cell_type": "markdown",
   "metadata": {},
   "source": [
    "### 8. Determine the following:\n",
    "\n",
    "#### a) For n = 4 and Mu = 0.12, what is P(X = 0)?"
   ]
  },
  {
   "cell_type": "code",
   "execution_count": 31,
   "metadata": {},
   "outputs": [
    {
     "data": {
      "text/plain": [
       "0.59969536000000001"
      ]
     },
     "execution_count": 31,
     "metadata": {},
     "output_type": "execute_result"
    }
   ],
   "source": [
    "# M = np ; p = M/n\n",
    "#0.12 = 4 * p\n",
    "n = 4\n",
    "p = 0.12\n",
    "X = 0\n",
    "binomial = stats.binom.pmf(X,n,p)\n",
    "binomial"
   ]
  },
  {
   "cell_type": "markdown",
   "metadata": {},
   "source": [
    "\n",
    "#### b) For n = 6 and Mu = 0.83, what is P(X = 5)?"
   ]
  },
  {
   "cell_type": "code",
   "execution_count": 32,
   "metadata": {},
   "outputs": [
    {
     "data": {
      "text/plain": [
       "0.40178214558600017"
      ]
     },
     "execution_count": 32,
     "metadata": {},
     "output_type": "execute_result"
    }
   ],
   "source": [
    "# M = np ; p = M/n\n",
    "#0.12 = 4 * p\n",
    "n = 6\n",
    "p = 0.83\n",
    "X = 5\n",
    "binomial = stats.binom.pmf(X,n,p)\n",
    "binomial"
   ]
  },
  {
   "cell_type": "markdown",
   "metadata": {},
   "source": [
    "### 9.Determine the mean and standard deviation of the variable X in each of the following binomial distributions\n",
    "\n",
    "a) n = 4 and Mu = 0.10\n",
    "\n",
    "b) n = 5 and Mu = 0.80\n"
   ]
  },
  {
   "cell_type": "code",
   "execution_count": 35,
   "metadata": {},
   "outputs": [
    {
     "name": "stdout",
     "output_type": "stream",
     "text": [
      "0.4\n",
      "0.6\n"
     ]
    }
   ],
   "source": [
    "# a) n = 4 and Mu = 0.10\n",
    "n = 4\n",
    "p = 0.10\n",
    "Mean = n * p\n",
    "\n",
    "SD = np.sqrt(Mean *  (1 - p))\n",
    "\n",
    "print(Mean)\n",
    "print(SD)"
   ]
  },
  {
   "cell_type": "code",
   "execution_count": 36,
   "metadata": {},
   "outputs": [
    {
     "name": "stdout",
     "output_type": "stream",
     "text": [
      "4.0\n",
      "0.894427191\n"
     ]
    }
   ],
   "source": [
    "#b) n = 5 and Mu = 0.80\n",
    "\n",
    "n = 5\n",
    "p = 0.80\n",
    "Mean = n * p\n",
    "\n",
    "SD = np.sqrt(Mean *  (1 - p))\n",
    "\n",
    "print(Mean)\n",
    "print(SD)"
   ]
  },
  {
   "cell_type": "markdown",
   "metadata": {},
   "source": [
    "### 10. How many possible outcomes are there if you toss a coin 4 times?\n",
    "\n",
    "=  1/2  *  1/2  *  1/2  *  1/2 = 1/16\n",
    "\n",
    "### 11. A coin is tossed three consecutive times, what is the probability of getting at least two consecutive head?\n",
    "\n",
    "1/2 + 1/2 + 1/2 = 3/8"
   ]
  },
  {
   "cell_type": "markdown",
   "metadata": {},
   "source": [
    "### 12. There are 10 candies in a bag: 5 green, and 5 blue. What is the probability of getting 3 blue candies in a row?\n",
    "\n",
    "Since we're calculating the probability of picking 1 Blue Candy AND 1 Blue Candy AND 1 Blue Candy\n",
    "\n",
    "Our final probability is 5/10 * 4/9 * 3/8, or .0833. So, there is an 8.3% chance of picking three blue candies in a row.\n",
    "\n",
    "#### Simple tricks:\n",
    "- Whenever you have to verbally say AND (like we just did above), you will want to MULTIPLY the probabilities\n",
    "- Whenever you have to verbally say OR, you will want to ADD the probabilities.\n",
    "\n",
    "### 13. What is the probability of picking a green candy OR a blue candy?\n",
    "\n",
    "5/10 + 5/10 = 1\n",
    "\n",
    "### 14. Consider we have 7 green candies and 5 blue candies. What is the probability of picking (one by one, and without replacing) 2 green candies OR 2 blue candies?\n",
    "\n",
    "(7/12) * (6/11) + 5/12 * 4/11 = 62/132"
   ]
  },
  {
   "cell_type": "markdown",
   "metadata": {},
   "source": [
    "### 15. A drilling company has estimated a 40% chance of striking oil for their new well. A detailed test has been scheduled for more information. Historically, 60% of successful wells have had detailed tests, and 20% of unsuccessful wells have had detailed tests. Given that this well has been scheduled for a detailed test, what is the the probability that the well be successful?\n",
    "\n",
    "P(60% of successful wells have had detailed tests) = Total Successfull wells (40) * (60/100)\n",
    "P(20% of unsuccessful wells have had detailed tests) = Total Un Successfull wells (60) * (20/100)\n",
    "\n",
    "| | Success | No Success | Total |\n",
    "|---|---|---|\n",
    "|D|24|12|36|\n",
    "|No DT|16|48|64|\n",
    "|Total|40|60|100|\n",
    "\n",
    "\n",
    "P(Given well scheduled for detailed test, the probability that well be successful) = P(S|D) = 24/36 = 0.667"
   ]
  },
  {
   "cell_type": "code",
   "execution_count": null,
   "metadata": {
    "collapsed": true
   },
   "outputs": [],
   "source": []
  }
 ],
 "metadata": {
  "kernelspec": {
   "display_name": "Python 3",
   "language": "python",
   "name": "python3"
  },
  "language_info": {
   "codemirror_mode": {
    "name": "ipython",
    "version": 3
   },
   "file_extension": ".py",
   "mimetype": "text/x-python",
   "name": "python",
   "nbconvert_exporter": "python",
   "pygments_lexer": "ipython3",
   "version": "3.6.1"
  }
 },
 "nbformat": 4,
 "nbformat_minor": 2
}
