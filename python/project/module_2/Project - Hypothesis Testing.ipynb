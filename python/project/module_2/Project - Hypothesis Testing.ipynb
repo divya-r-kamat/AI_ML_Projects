{
 "cells": [
  {
   "cell_type": "markdown",
   "metadata": {},
   "source": [
    "## Hypothesis Testing - Project Description\n",
    "\n",
    "Par Inc., is a major manufacturer of golf equipment. Management believes that Par’s market share could be increased\n",
    "with the introduction of a cut-resistant, longer-lasting golf ball.\n",
    "\n",
    "1. Formulate and present the rationale for a hypothesis test that par could use to compare the driving distances of\n",
    "the current and new golf balls.\n",
    "\n",
    "2. Analyse the data to provide the hypothesis testing conclusion. What is the p-value for your test? What is your\n",
    "recommendation for Par Inc.?\n",
    "\n",
    "3. Provide descriptive statistical summaries of the data for each model.\n",
    "\n",
    "#### Attribute information\n",
    "\n",
    "    • Current: Current golf ball that is used.\n",
    "    • New: New ball with better cut resistance."
   ]
  },
  {
   "cell_type": "markdown",
   "metadata": {},
   "source": [
    "#### 1. Import libraries\n",
    "\n",
    "Import necessary libraries for the analysis"
   ]
  },
  {
   "cell_type": "code",
   "execution_count": 7,
   "metadata": {
    "collapsed": true
   },
   "outputs": [],
   "source": [
    "import numpy as np\n",
    "import pandas as pd\n",
    "import scipy.stats as stats\n",
    "from scipy.stats import ttest_ind,levene,shapiro, iqr\n",
    "from statsmodels.stats.power import ttest_power\n",
    "import matplotlib.pyplot as plt\n",
    "import seaborn as sns\n",
    "%matplotlib inline"
   ]
  },
  {
   "cell_type": "markdown",
   "metadata": {},
   "source": [
    "#### 2. Read File"
   ]
  },
  {
   "cell_type": "code",
   "execution_count": 8,
   "metadata": {},
   "outputs": [],
   "source": [
    "df = pd.read_excel(r\"C:\\Users\\divyakamat\\data\\DataSets\\stats\\SM4-Golf.xls\")"
   ]
  },
  {
   "cell_type": "markdown",
   "metadata": {},
   "source": [
    "#### 3. Sneak-peek at the data:\n",
    "Let us look at the top few rows to view the data"
   ]
  },
  {
   "cell_type": "code",
   "execution_count": 9,
   "metadata": {},
   "outputs": [
    {
     "data": {
      "text/html": [
       "<div>\n",
       "<style>\n",
       "    .dataframe thead tr:only-child th {\n",
       "        text-align: right;\n",
       "    }\n",
       "\n",
       "    .dataframe thead th {\n",
       "        text-align: left;\n",
       "    }\n",
       "\n",
       "    .dataframe tbody tr th {\n",
       "        vertical-align: top;\n",
       "    }\n",
       "</style>\n",
       "<table border=\"1\" class=\"dataframe\">\n",
       "  <thead>\n",
       "    <tr style=\"text-align: right;\">\n",
       "      <th></th>\n",
       "      <th>Current</th>\n",
       "      <th>New</th>\n",
       "    </tr>\n",
       "  </thead>\n",
       "  <tbody>\n",
       "    <tr>\n",
       "      <th>0</th>\n",
       "      <td>264</td>\n",
       "      <td>277</td>\n",
       "    </tr>\n",
       "    <tr>\n",
       "      <th>1</th>\n",
       "      <td>261</td>\n",
       "      <td>269</td>\n",
       "    </tr>\n",
       "    <tr>\n",
       "      <th>2</th>\n",
       "      <td>267</td>\n",
       "      <td>263</td>\n",
       "    </tr>\n",
       "    <tr>\n",
       "      <th>3</th>\n",
       "      <td>272</td>\n",
       "      <td>266</td>\n",
       "    </tr>\n",
       "    <tr>\n",
       "      <th>4</th>\n",
       "      <td>258</td>\n",
       "      <td>262</td>\n",
       "    </tr>\n",
       "  </tbody>\n",
       "</table>\n",
       "</div>"
      ],
      "text/plain": [
       "   Current  New\n",
       "0      264  277\n",
       "1      261  269\n",
       "2      267  263\n",
       "3      272  266\n",
       "4      258  262"
      ]
     },
     "execution_count": 9,
     "metadata": {},
     "output_type": "execute_result"
    }
   ],
   "source": [
    "df.head()"
   ]
  },
  {
   "cell_type": "code",
   "execution_count": 10,
   "metadata": {},
   "outputs": [
    {
     "name": "stdout",
     "output_type": "stream",
     "text": [
      "<class 'pandas.core.frame.DataFrame'>\n",
      "RangeIndex: 40 entries, 0 to 39\n",
      "Data columns (total 2 columns):\n",
      "Current    40 non-null int64\n",
      "New        40 non-null int64\n",
      "dtypes: int64(2)\n",
      "memory usage: 720.0 bytes\n"
     ]
    }
   ],
   "source": [
    "df.info()"
   ]
  },
  {
   "cell_type": "code",
   "execution_count": 41,
   "metadata": {},
   "outputs": [
    {
     "data": {
      "text/plain": [
       "['Current', 'New']"
      ]
     },
     "execution_count": 41,
     "metadata": {},
     "output_type": "execute_result"
    }
   ],
   "source": [
    "#list the number of Numerical Features in our dataset.\n",
    "numerical_feature_columns = list(df._get_numeric_data().columns)\n",
    "numerical_feature_columns"
   ]
  },
  {
   "cell_type": "code",
   "execution_count": 42,
   "metadata": {},
   "outputs": [
    {
     "data": {
      "text/plain": [
       "[]"
      ]
     },
     "execution_count": 42,
     "metadata": {},
     "output_type": "execute_result"
    }
   ],
   "source": [
    "#let's find out the number of Categorical Features in our dataset.\n",
    "categorical_feature_columns = list(set(df.columns) - set(df._get_numeric_data().columns))\n",
    "categorical_feature_columns"
   ]
  },
  {
   "cell_type": "markdown",
   "metadata": {},
   "source": [
    "- The data set contains 40 rows \n",
    "- There are two columns with discrete numeric data\n",
    "- There are no categorical columns\n",
    "- No missing values"
   ]
  },
  {
   "cell_type": "markdown",
   "metadata": {},
   "source": [
    "#### 4. Statictical Summary\n",
    "Let us look at the distribution of data in each of these columns using summary statictics"
   ]
  },
  {
   "cell_type": "code",
   "execution_count": 11,
   "metadata": {},
   "outputs": [
    {
     "data": {
      "text/html": [
       "<div>\n",
       "<style>\n",
       "    .dataframe thead tr:only-child th {\n",
       "        text-align: right;\n",
       "    }\n",
       "\n",
       "    .dataframe thead th {\n",
       "        text-align: left;\n",
       "    }\n",
       "\n",
       "    .dataframe tbody tr th {\n",
       "        vertical-align: top;\n",
       "    }\n",
       "</style>\n",
       "<table border=\"1\" class=\"dataframe\">\n",
       "  <thead>\n",
       "    <tr style=\"text-align: right;\">\n",
       "      <th></th>\n",
       "      <th>Current</th>\n",
       "      <th>New</th>\n",
       "    </tr>\n",
       "  </thead>\n",
       "  <tbody>\n",
       "    <tr>\n",
       "      <th>count</th>\n",
       "      <td>40.000000</td>\n",
       "      <td>40.000000</td>\n",
       "    </tr>\n",
       "    <tr>\n",
       "      <th>mean</th>\n",
       "      <td>270.275000</td>\n",
       "      <td>267.500000</td>\n",
       "    </tr>\n",
       "    <tr>\n",
       "      <th>std</th>\n",
       "      <td>8.752985</td>\n",
       "      <td>9.896904</td>\n",
       "    </tr>\n",
       "    <tr>\n",
       "      <th>min</th>\n",
       "      <td>255.000000</td>\n",
       "      <td>250.000000</td>\n",
       "    </tr>\n",
       "    <tr>\n",
       "      <th>25%</th>\n",
       "      <td>263.000000</td>\n",
       "      <td>262.000000</td>\n",
       "    </tr>\n",
       "    <tr>\n",
       "      <th>50%</th>\n",
       "      <td>270.000000</td>\n",
       "      <td>265.000000</td>\n",
       "    </tr>\n",
       "    <tr>\n",
       "      <th>75%</th>\n",
       "      <td>275.250000</td>\n",
       "      <td>274.500000</td>\n",
       "    </tr>\n",
       "    <tr>\n",
       "      <th>max</th>\n",
       "      <td>289.000000</td>\n",
       "      <td>289.000000</td>\n",
       "    </tr>\n",
       "  </tbody>\n",
       "</table>\n",
       "</div>"
      ],
      "text/plain": [
       "          Current         New\n",
       "count   40.000000   40.000000\n",
       "mean   270.275000  267.500000\n",
       "std      8.752985    9.896904\n",
       "min    255.000000  250.000000\n",
       "25%    263.000000  262.000000\n",
       "50%    270.000000  265.000000\n",
       "75%    275.250000  274.500000\n",
       "max    289.000000  289.000000"
      ]
     },
     "execution_count": 11,
     "metadata": {},
     "output_type": "execute_result"
    }
   ],
   "source": [
    "df.describe()"
   ]
  },
  {
   "cell_type": "markdown",
   "metadata": {},
   "source": [
    "##### Descriptive Statistics for Current Golf Ball Model"
   ]
  },
  {
   "cell_type": "code",
   "execution_count": 12,
   "metadata": {},
   "outputs": [
    {
     "name": "stdout",
     "output_type": "stream",
     "text": [
      "The descriptive stats for Current Golf Ball Model\n",
      "----------------------------------------------\n",
      "The mean is 270.275.\n",
      "The median is 270.000.\n",
      "The standard deviation is 8.753.\n",
      "The variance is 76.615.\n",
      "The iqr is 12.250.\n"
     ]
    }
   ],
   "source": [
    "print(\"The descriptive stats for Current Golf Ball Model\")\n",
    "print(\"----------------------------------------------\")\n",
    "print(\"The mean is %.3f.\" %  df[\"Current\"].describe()[\"mean\"])\n",
    "print(\"The median is %.3f.\" %  df[\"Current\"].describe()[\"50%\"])\n",
    "print(\"The standard deviation is %.3f.\" %  df[\"Current\"].describe()[\"std\"])\n",
    "print(\"The variance is %.3f.\" %  df[\"Current\"].describe()[\"std\"] ** 2)\n",
    "print(\"The iqr is %.3f.\" %  iqr(df[\"Current\"]))"
   ]
  },
  {
   "cell_type": "markdown",
   "metadata": {},
   "source": [
    "##### Descriptive Statistics for New Golf Ball Model"
   ]
  },
  {
   "cell_type": "code",
   "execution_count": 13,
   "metadata": {},
   "outputs": [
    {
     "name": "stdout",
     "output_type": "stream",
     "text": [
      "The descriptive stats for New Golf Ball Model\n",
      "----------------------------------------------\n",
      "The mean is 267.500.\n",
      "The median is 265.000.\n",
      "The standard deviation is 9.897.\n",
      "The variance is 97.949.\n",
      "The iqr is 12.500.\n"
     ]
    }
   ],
   "source": [
    "print(\"The descriptive stats for New Golf Ball Model\")\n",
    "print(\"----------------------------------------------\")\n",
    "print(\"The mean is %.3f.\" %  df[\"New\"].describe()[\"mean\"])\n",
    "print(\"The median is %.3f.\" %  df[\"New\"].describe()[\"50%\"])\n",
    "print(\"The standard deviation is %.3f.\" %  df[\"New\"].describe()[\"std\"])\n",
    "print(\"The variance is %.3f.\" %  df[\"New\"].describe()[\"std\"] ** 2)\n",
    "print(\"The iqr is %.3f.\" %  iqr(df[\"New\"]))"
   ]
  },
  {
   "cell_type": "markdown",
   "metadata": {},
   "source": [
    "#### Inferences:\n",
    "    - The mean and median for the New Golf Ball Model is lower than Current Model\n",
    "    - The Std Deviation and Variation is high in New Golf Ball Model\n",
    "    - The count is same for both the models"
   ]
  },
  {
   "cell_type": "markdown",
   "metadata": {},
   "source": [
    "#### 5. Univariate Analysis\n",
    "Let us look at the data distribution for both the variables using Seaborn"
   ]
  },
  {
   "cell_type": "markdown",
   "metadata": {},
   "source": [
    "#### Histogram"
   ]
  },
  {
   "cell_type": "code",
   "execution_count": 34,
   "metadata": {},
   "outputs": [
    {
     "data": {
      "image/png": "[encoded data removed]",
      "text/plain": [
       "<Figure size 720x288 with 2 Axes>"
      ]
     },
     "metadata": {},
     "output_type": "display_data"
    }
   ],
   "source": [
    "num_cols = ['Current','New']\n",
    "for i in range(0,len(num_cols),2):\n",
    "    if len(num_cols) > i+1:\n",
    "        plt.figure(figsize=(10,4))\n",
    "        plt.subplot(121)\n",
    "        sns.distplot(df[num_cols[i]], hist=True, kde=True)\n",
    "        plt.subplot(122)            \n",
    "        sns.distplot(df[num_cols[i+1]], hist=True, kde=True)\n",
    "        plt.tight_layout()\n",
    "        plt.show()\n",
    "\n",
    "    else:\n",
    "        sns.distplot(df[num_cols[i]], hist=True, kde=True)"
   ]
  },
  {
   "cell_type": "markdown",
   "metadata": {},
   "source": [
    "Data for both current and new ball seems to be close to normal distribution"
   ]
  },
  {
   "cell_type": "markdown",
   "metadata": {},
   "source": [
    "#### Box Plot"
   ]
  },
  {
   "cell_type": "code",
   "execution_count": 39,
   "metadata": {},
   "outputs": [
    {
     "data": {
      "text/plain": [
       "<matplotlib.axes._subplots.AxesSubplot at 0x1ef64dc0208>"
      ]
     },
     "execution_count": 39,
     "metadata": {},
     "output_type": "execute_result"
    },
    {
     "data": {
      "image/png": "[encoded data removed]",
      "text/plain": [
       "<Figure size 720x288 with 2 Axes>"
      ]
     },
     "metadata": {},
     "output_type": "display_data"
    }
   ],
   "source": [
    "plt.figure(figsize=(10,4))\n",
    "plt.subplot(121)\n",
    "sns.boxplot(x=df[\"Current\"],orient='v')\n",
    "plt.subplot(122)            \n",
    "sns.boxplot(x=df[\"New\"],orient='v')"
   ]
  },
  {
   "cell_type": "markdown",
   "metadata": {},
   "source": [
    "- The overall distribution (spread) of data is same for both Current and New Golf ball Model variables.\n",
    "- The median value for New is less than Current \n",
    "- There are no outliers in the dataset."
   ]
  },
  {
   "cell_type": "markdown",
   "metadata": {},
   "source": [
    "#### 6. Shapiro Test (Normality test)\n",
    "\n",
    "Lets run a Shapiro test to test normality of the data i.e. to check if the data is normally distributed."
   ]
  },
  {
   "cell_type": "code",
   "execution_count": 16,
   "metadata": {},
   "outputs": [
    {
     "name": "stdout",
     "output_type": "stream",
     "text": [
      "The statictic is 0.971 and the p-value is 0.379.\n"
     ]
    }
   ],
   "source": [
    "shapiro_current = shapiro(df[\"Current\"])\n",
    "print(\"The statictic is %.3f and the p-value is %.3f.\" % shapiro_current)\n"
   ]
  },
  {
   "cell_type": "markdown",
   "metadata": {},
   "source": [
    "<b> Since p-value for Current Model is greater than chosen alpha level 0.05 (Level of Significance) we accept the null hypothesis and this implies that the data is normally distributed </b>"
   ]
  },
  {
   "cell_type": "code",
   "execution_count": 17,
   "metadata": {},
   "outputs": [
    {
     "name": "stdout",
     "output_type": "stream",
     "text": [
      "The statictic is 0.968 and the p-value is 0.306.\n"
     ]
    }
   ],
   "source": [
    "shapiro_new = shapiro(df[\"New\"])\n",
    "print(\"The statictic is %.3f and the p-value is %.3f.\" % shapiro_new)"
   ]
  },
  {
   "cell_type": "markdown",
   "metadata": {},
   "source": [
    "<b> Since p-value for New Model is greater than chosen alpha level 0.05 (Level of Significance) we accept the null hypothesis and this implies that the data is normally distributed </b>"
   ]
  },
  {
   "cell_type": "markdown",
   "metadata": {},
   "source": [
    "#### 7. Formulate Hypothesis\n",
    "\n",
    "\n",
    "From the given information, we can derive population mean for driving distance of Current golf ball and population mean for driving distance of New golf ball.\n",
    "\n",
    "We will formulate the hypothesis to compare the means of these groups\n",
    "\n",
    "- H0 (Null Hypothesis) : The means of these two groups are same \n",
    "- H1 (Alternative) : The mean of New golf ball and the current golf ball is not same\n"
   ]
  },
  {
   "cell_type": "markdown",
   "metadata": {},
   "source": [
    "#### 8. Levene's test\n",
    "Levene's test is an inferential statistic used to assess the equality of variances or two or more groups. \n",
    "\n",
    "    - H0 (Null Hypothesis) : The variance of these two groups are same \n",
    "    - H1 (Alternative) : The variance of New golf ball and the current golf ball is not same\n"
   ]
  },
  {
   "cell_type": "code",
   "execution_count": 18,
   "metadata": {},
   "outputs": [
    {
     "data": {
      "text/plain": [
       "LeveneResult(statistic=0.2553238291765741, pvalue=0.6147759523331309)"
      ]
     },
     "execution_count": 18,
     "metadata": {},
     "output_type": "execute_result"
    }
   ],
   "source": [
    "levene(df[\"Current\"],df[\"New\"])\n",
    "#print(\"The statistic is %.3f and the p-value is %.3f.\" % levene1)\n"
   ]
  },
  {
   "cell_type": "markdown",
   "metadata": {},
   "source": [
    "#### Conclusion:\n",
    "As p_value > 0.05 (level of significance) so we reject null hypothesis, implying that population variance of driving distances of the current and new golf balls are not equal"
   ]
  },
  {
   "cell_type": "markdown",
   "metadata": {},
   "source": [
    "#### 9. Choose statistical test\n",
    "\n",
    "Although the size (n) for both Current and New ball is 40, we will use two sample t-statistic for our hypothesis testing\n"
   ]
  },
  {
   "cell_type": "code",
   "execution_count": 19,
   "metadata": {},
   "outputs": [
    {
     "name": "stdout",
     "output_type": "stream",
     "text": [
      "The t-statistic is 1.328 and the p-value is 0.188.\n"
     ]
    }
   ],
   "source": [
    "two_sample = ttest_ind(df[\"Current\"], df[\"New\"])\n",
    "print(\"The t-statistic is %.3f and the p-value is %.3f.\" % two_sample)\n"
   ]
  },
  {
   "cell_type": "markdown",
   "metadata": {},
   "source": [
    "#### Conclusion:\n",
    "\n",
    "As p_value > 0.05 (level of significance) so we accept null hypothesis, to conclude that population means of driving distances of the current and new golf balls are equal"
   ]
  },
  {
   "cell_type": "markdown",
   "metadata": {},
   "source": [
    "#### 10. Calculating the mean [95% confidence interval] difference between two groups / models\n",
    "\n",
    "- The first thing is to calculate the mean difference between the two groups. \n",
    "- Next, we need to calculate the 95% confidence interval of this difference for this we need to calculate margin of error \n",
    "- The formula for the margin of error is: MoE = t.95(dof) * std_N1N2 * (1/sqrt(N1+N2-2))\n",
    "    - The first term in the formula is the t component, which is based on the degrees of freedom associated with our data (dof = N1 + N2 - 2).\n",
    "    - calculate the t-value associated with our 95% cut-off using the percent point function from Student’s t in scipy.stats.       - The t component of the formula corresponds to the t-value associated with our 95% cut-off. We can find this t-value by looking at a t-distribution and seeing what number corresponds 97.5% (because 2.5% to 97.5% corresponds to 95% of the data)\n",
    "    - i.e 0.975 is used to get a two-sided confidence interval. This gives 2.5% of the probability in the upper tail and 2.5% of the probability in the lower tail"
   ]
  },
  {
   "cell_type": "code",
   "execution_count": 33,
   "metadata": {},
   "outputs": [
    {
     "name": "stdout",
     "output_type": "stream",
     "text": [
      "\n",
      "The Confidence Interval for Current Model 270.27 [267.48 to 273.07] (mean [95% CI]) \n",
      "The Confidence Interval for New Model 267.50 [264.33 to 270.67] (mean [95% CI]) \n",
      "\n",
      "The results of the independent t-test are: \n",
      "\tt-value = 1.328\n",
      "\tp-value = 0.188\n",
      "\n",
      "The difference between groups is 2.77 [-1.38 to 6.93] (mean [95% CI]) \n"
     ]
    }
   ],
   "source": [
    "# Calculate the mean difference and 95% confidence interval\n",
    "N1 = 40\n",
    "N2 = 40\n",
    "dof = (N1 + N2 - 2)\n",
    "std1_current = df[\"Current\"].std()\n",
    "std2_new = df[\"New\"].std()\n",
    "\n",
    "#Pooled standard deviation\n",
    "std_N1N2 = np.sqrt( ((N1 - 1)*(std1_current)**2 + (N2 - 1)*(std2_new)**2) / dof) \n",
    "\n",
    "diff_mean = df[\"Current\"].mean()  - df[\"New\"].mean()\n",
    "MoE = stats.t.ppf(1 - 0.05/2, dof) * std_N1N2 * np.sqrt(1/N1 + 1/N2)\n",
    "\n",
    "#Population Mean Confidence Interval for Current Golf Ball Model\n",
    "ci_internal = stats.t.interval(0.95, 39, loc = df[\"Current\"].mean(), scale=stats.sem(df[\"Current\"]) )\n",
    "print ('\\nThe Confidence Interval for Current Model {:3.2f} [{:3.2f} to {:3.2f}] (mean [95% CI]) '.format(df[\"Current\"].mean() , ci_internal[0], ci_internal[1]))\n",
    "\n",
    "#Population Mean Confidence Interval for New Golf Ball Model\n",
    "# stats.norm.interval(0.95, loc =df[\"New\"].mean() ) - This is for CI using Z stats\n",
    "ci_new_inv = stats.t.interval(0.95, 39, loc = df[\"New\"].mean(), scale=stats.sem(df[\"New\"]))\n",
    "print ('The Confidence Interval for New Model {:3.2f} [{:3.2f} to {:3.2f}] (mean [95% CI]) '.format(df[\"New\"].mean() , ci_new_inv[0], ci_new_inv[1]))\n",
    "\n",
    "print('\\nThe results of the independent t-test are: \\n\\tt-value = {:4.3f}\\n\\tp-value = {:4.3f}'.format(two_sample[0],two_sample[1]))\n",
    "print ('\\nThe difference between groups is {:3.2f} [{:3.2f} to {:3.2f}] (mean [95% CI]) '.format(diff_mean, diff_mean - MoE, diff_mean + MoE))\n"
   ]
  },
  {
   "cell_type": "markdown",
   "metadata": {},
   "source": [
    "## Summary\n",
    "\n",
    "The output, provides us with the t-value (t), the degrees of freedom for the test (dof), and the p-value. Because the p-value is greater the threshold of 0.05 (alpha), we accept the null hypothesis and can report that there is a no statistically significant difference in the population mean's of two Golf Ball Models.\n",
    "\n",
    "The output also provides, 95% confidence interval of the difference between groups as well as the mean driving distance of each group. Based on these values, we can conclude that the mean [95% CI] difference between groups is 2.77 [-1.38 to 6.93]. This means that if we carried out 100 experiments, we would expect the mean difference of 95 of these experiments to be between -1.38 and 6.93.\n",
    "\n",
    "An alternative interpretation is that we can be 95% certain that the (true) difference in means between the population of Current Golf Model and New Golf Model falls between -1.38 and 6.93.\n",
    "\n",
    "So there will not be a significant difference by introducing the new golf ball model. We will have to run this test with higher sample data to arrive at any further decision."
   ]
  },
  {
   "cell_type": "code",
   "execution_count": null,
   "metadata": {
    "collapsed": true
   },
   "outputs": [],
   "source": []
  }
 ],
 "metadata": {
  "kernelspec": {
   "display_name": "Python 3",
   "language": "python",
   "name": "python3"
  },
  "language_info": {
   "codemirror_mode": {
    "name": "ipython",
    "version": 3
   },
   "file_extension": ".py",
   "mimetype": "text/x-python",
   "name": "python",
   "nbconvert_exporter": "python",
   "pygments_lexer": "ipython3",
   "version": "3.6.1"
  }
 },
 "nbformat": 4,
 "nbformat_minor": 2
}
